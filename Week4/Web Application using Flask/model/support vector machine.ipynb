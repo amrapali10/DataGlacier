{
 "cells": [
  {
   "cell_type": "markdown",
   "id": "80074f6c",
   "metadata": {},
   "source": [
    "### Part 1: Import Libraries and Dataset"
   ]
  },
  {
   "cell_type": "code",
   "execution_count": 1,
   "id": "ee4e999d",
   "metadata": {
    "ExecuteTime": {
     "end_time": "2022-10-26T14:23:16.641352Z",
     "start_time": "2022-10-26T14:23:13.388691Z"
    }
   },
   "outputs": [
    {
     "name": "stderr",
     "output_type": "stream",
     "text": [
      "C:\\Users\\AMRAPALI\\anaconda3\\lib\\site-packages\\scipy\\__init__.py:146: UserWarning: A NumPy version >=1.16.5 and <1.23.0 is required for this version of SciPy (detected version 1.23.4\n",
      "  warnings.warn(f\"A NumPy version >={np_minversion} and <{np_maxversion}\"\n"
     ]
    }
   ],
   "source": [
    "# import Libaries & Packages\n",
    "import numpy as np                  # Import Numpy for data statistical analysis\n",
    "import pandas as pd                 # Import Pandas for data manipulation using dataframes\n",
    "import seaborn as sns               # Statistical data visualization\n",
    "import matplotlib.pyplot as plt     # Import matplotlib for data visualisation"
   ]
  },
  {
   "cell_type": "code",
   "execution_count": 2,
   "id": "d37105eb",
   "metadata": {
    "ExecuteTime": {
     "end_time": "2022-10-26T14:23:17.067145Z",
     "start_time": "2022-10-26T14:23:16.977934Z"
    }
   },
   "outputs": [],
   "source": [
    "# Import Youtube Ham or Spam dataset taken from UCI\n",
    "df1 = pd.read_csv(\"dataset/Youtube01-Psy.csv\")              # Psy youtube channel most viewed video comments dataset\n",
    "df2 = pd.read_csv(\"dataset/Youtube02-KatyPerry.csv\")        # KatyPerry youtube channel most viewed video comments dataset\n",
    "df3 = pd.read_csv(\"dataset/Youtube03-LMFAO.csv\")            # Psy LMFAO channel most viewed video comments dataset\n",
    "df4 = pd.read_csv(\"dataset/Youtube04-Eminem.csv\")           # Eminem youtube channel most viewed video comments dataset\n",
    "df5 = pd.read_csv(\"dataset/Youtube05-Shakira.csv\")          # Shakira youtube channel most viewed video comments dataset"
   ]
  },
  {
   "cell_type": "code",
   "execution_count": 3,
   "id": "c8322381",
   "metadata": {
    "ExecuteTime": {
     "end_time": "2022-10-26T14:23:18.496647Z",
     "start_time": "2022-10-26T14:23:18.483422Z"
    }
   },
   "outputs": [],
   "source": [
    "# Merge all the datasset into single file\n",
    "frames = [df1,df2,df3,df4,df5]                          # make a list of all file\n",
    "df_merged = pd.concat(frames)                           # concatenate the all the file into single\n",
    "keys = [\"Psy\",\"KatyPerry\",\"LMFAO\",\"Eminem\",\"Shakira\"]   # Merging with Keys\n",
    "df_with_keys = pd.concat(frames,keys=keys)              # concatenate data with keys\n",
    "dataset=df_with_keys"
   ]
  },
  {
   "cell_type": "code",
   "execution_count": 4,
   "id": "daee1f4a",
   "metadata": {
    "ExecuteTime": {
     "end_time": "2022-10-26T14:23:19.720229Z",
     "start_time": "2022-10-26T14:23:19.714243Z"
    }
   },
   "outputs": [
    {
     "name": "stdout",
     "output_type": "stream",
     "text": [
      "9780\n",
      "(1956, 5)\n",
      "Index(['COMMENT_ID', 'AUTHOR', 'DATE', 'CONTENT', 'CLASS'], dtype='object')\n"
     ]
    }
   ],
   "source": [
    "# Infomation about dataset\n",
    "print(dataset.size)                 # size of dataset\n",
    "print(dataset.shape)                # shape of datadet\n",
    "print(dataset.keys())               # attributes of dataset"
   ]
  },
  {
   "cell_type": "markdown",
   "id": "eb1837b8",
   "metadata": {},
   "source": [
    "### Part 2: Data Preprocessing"
   ]
  },
  {
   "cell_type": "code",
   "execution_count": 5,
   "id": "0641823e",
   "metadata": {
    "ExecuteTime": {
     "end_time": "2022-10-26T14:23:22.404373Z",
     "start_time": "2022-10-26T14:23:22.399360Z"
    }
   },
   "outputs": [],
   "source": [
    "# working with text content\n",
    "dataset = dataset[[\"CONTENT\" , \"CLASS\"]]             # context = comments of viewers & Class = ham or Spam"
   ]
  },
  {
   "cell_type": "code",
   "execution_count": 6,
   "id": "b46b86d2",
   "metadata": {
    "ExecuteTime": {
     "end_time": "2022-10-26T14:23:23.603099Z",
     "start_time": "2022-10-26T14:23:23.599109Z"
    }
   },
   "outputs": [],
   "source": [
    "# Predictor and Target attribute\n",
    "dataset_X = dataset['CONTENT']                       # predictor attribute\n",
    "dataset_y = dataset['CLASS']                         # target attribute"
   ]
  },
  {
   "cell_type": "code",
   "execution_count": 7,
   "id": "b3f09891",
   "metadata": {
    "ExecuteTime": {
     "end_time": "2022-10-26T14:23:24.696051Z",
     "start_time": "2022-10-26T14:23:24.408835Z"
    }
   },
   "outputs": [],
   "source": [
    "# Feature Extraction from Text using  TF-IDF model\n",
    "from sklearn.feature_extraction.text import TfidfVectorizer   # import TF-IDF model from scikit Learn"
   ]
  },
  {
   "cell_type": "code",
   "execution_count": 8,
   "id": "267e334b",
   "metadata": {
    "ExecuteTime": {
     "end_time": "2022-10-26T14:23:25.554494Z",
     "start_time": "2022-10-26T14:23:25.475238Z"
    }
   },
   "outputs": [],
   "source": [
    "# Extract Feature With TF-IDF model \n",
    "corpus = dataset_X                               # declare the variable\n",
    "cv = TfidfVectorizer()                           # initialize the TF-IDF  model\n",
    "X = cv.fit_transform(corpus).toarray()           # fit the corpus data into BOW model"
   ]
  },
  {
   "cell_type": "code",
   "execution_count": 9,
   "id": "20e4df0e",
   "metadata": {
    "ExecuteTime": {
     "end_time": "2022-10-26T14:23:26.458662Z",
     "start_time": "2022-10-26T14:23:26.311610Z"
    }
   },
   "outputs": [],
   "source": [
    "# Split the dataset into Train and Test\n",
    "from sklearn.model_selection import train_test_split\n",
    "X_train, X_test, y_train, y_test = train_test_split(X, dataset_y, test_size=0.2, random_state=0)"
   ]
  },
  {
   "cell_type": "code",
   "execution_count": 10,
   "id": "e8ba9187",
   "metadata": {
    "ExecuteTime": {
     "end_time": "2022-10-26T14:23:27.125933Z",
     "start_time": "2022-10-26T14:23:27.118951Z"
    }
   },
   "outputs": [
    {
     "data": {
      "text/plain": [
       "(1956, 4454)"
      ]
     },
     "execution_count": 10,
     "metadata": {},
     "output_type": "execute_result"
    }
   ],
   "source": [
    "# shape of predictor attrbute after Extract Features\n",
    "X.shape"
   ]
  },
  {
   "cell_type": "markdown",
   "id": "5ffb2334",
   "metadata": {},
   "source": [
    "### Part 3: Building a Model"
   ]
  },
  {
   "cell_type": "code",
   "execution_count": 11,
   "id": "3444fb67",
   "metadata": {
    "ExecuteTime": {
     "end_time": "2022-10-26T14:23:28.702273Z",
     "start_time": "2022-10-26T14:23:28.546315Z"
    }
   },
   "outputs": [],
   "source": [
    "# import the model from sklean\n",
    "from sklearn.svm import SVC             # import the Support Vector Machine Classifier model"
   ]
  },
  {
   "cell_type": "code",
   "execution_count": 12,
   "id": "fb1fa2c2",
   "metadata": {
    "ExecuteTime": {
     "end_time": "2022-10-26T14:23:29.381250Z",
     "start_time": "2022-10-26T14:23:29.377257Z"
    }
   },
   "outputs": [],
   "source": [
    " # initialize the model\n",
    "classifier = SVC(kernel = 'linear', random_state= 0)      "
   ]
  },
  {
   "cell_type": "code",
   "execution_count": 13,
   "id": "a286a6f7",
   "metadata": {
    "ExecuteTime": {
     "end_time": "2022-10-26T14:23:32.850705Z",
     "start_time": "2022-10-26T14:23:29.951359Z"
    }
   },
   "outputs": [
    {
     "data": {
      "text/plain": [
       "SVC(kernel='linear', random_state=0)"
      ]
     },
     "execution_count": 13,
     "metadata": {},
     "output_type": "execute_result"
    }
   ],
   "source": [
    "# fit the dataset into our classifier model for training\n",
    "classifier.fit(X_train, y_train)"
   ]
  },
  {
   "cell_type": "markdown",
   "id": "89d22bf9",
   "metadata": {},
   "source": [
    "### Part 4: Making a Prediction and Evaluate the Result"
   ]
  },
  {
   "cell_type": "code",
   "execution_count": 14,
   "id": "17c8c32e",
   "metadata": {
    "ExecuteTime": {
     "end_time": "2022-10-26T14:23:35.853002Z",
     "start_time": "2022-10-26T14:23:35.196099Z"
    }
   },
   "outputs": [
    {
     "name": "stdout",
     "output_type": "stream",
     "text": [
      "[0 0 1 0 0 1 1 0 1 0 0 0 0 1 1 1 0 0 1 0 1 1 1 1 0 1 1 1 0 0 0 1 1 1 0 1 0\n",
      " 0 0 0 1 0 1 0 1 1 1 1 0 1 1 0 0 1 0 1 1 1 0 0 0 1 0 0 0 1 1 1 1 0 1 0 0 1\n",
      " 0 0 0 1 0 1 0 1 0 0 0 1 1 1 0 1 0 1 1 0 0 1 0 0 1 1 0 0 0 1 1 1 1 1 0 1 0\n",
      " 0 1 1 1 0 1 1 1 1 1 1 1 0 0 0 1 0 1 1 0 0 0 0 0 0 1 0 1 0 1 0 1 1 1 1 0 0\n",
      " 1 1 1 0 0 1 0 0 1 1 0 1 0 1 1 1 0 0 0 1 0 1 1 0 1 0 1 0 0 1 1 1 1 1 0 1 0\n",
      " 0 1 0 0 0 0 1 1 0 0 0 0 1 1 1 0 0 1 1 1 1 1 0 0 0 1 0 1 1 1 0 0 0 0 0 0 0\n",
      " 1 1 0 0 1 0 0 1 1 1 1 1 0 1 1 0 1 1 0 1 0 1 0 0 1 0 0 0 1 1 0 1 1 1 0 0 1\n",
      " 1 1 1 0 0 0 0 1 0 1 0 0 1 1 1 0 1 0 1 0 1 1 1 0 0 1 0 1 1 1 0 0 0 0 0 0 0\n",
      " 1 0 1 0 1 0 1 1 0 0 1 0 1 0 1 0 0 0 0 1 1 0 1 0 0 1 1 1 1 1 0 0 0 0 0 1 1\n",
      " 0 1 0 1 0 1 1 1 1 1 1 0 0 0 0 0 0 1 1 0 1 1 1 1 0 1 0 0 1 0 1 1 1 0 1 0 1\n",
      " 1 1 0 0 0 1 1 0 1 0 0 0 0 1 0 1 0 0 1 1 1 0]\n"
     ]
    }
   ],
   "source": [
    "# predict the result\n",
    "y_pred = classifier.predict(X_test)\n",
    "print(y_pred)"
   ]
  },
  {
   "cell_type": "code",
   "execution_count": 15,
   "id": "93a4d7a0",
   "metadata": {
    "ExecuteTime": {
     "end_time": "2022-10-26T14:23:36.898838Z",
     "start_time": "2022-10-26T14:23:36.891859Z"
    }
   },
   "outputs": [
    {
     "name": "stdout",
     "output_type": "stream",
     "text": [
      "[[178   5]\n",
      " [ 15 194]]\n"
     ]
    }
   ],
   "source": [
    "# Making a Confusion Matrix\n",
    "from sklearn.metrics import confusion_matrix\n",
    "confusion_matrix= confusion_matrix(y_test, y_pred)\n",
    "print(confusion_matrix)\n",
    "#[row, column]\n",
    "TP = confusion_matrix[1, 1]        \n",
    "TN = confusion_matrix[0, 0]           \n",
    "FP = confusion_matrix[0, 1]           \n",
    "FN = confusion_matrix[1, 0]"
   ]
  },
  {
   "cell_type": "code",
   "execution_count": 16,
   "id": "44b40bda",
   "metadata": {
    "ExecuteTime": {
     "end_time": "2022-10-26T14:23:40.979830Z",
     "start_time": "2022-10-26T14:23:40.956300Z"
    }
   },
   "outputs": [
    {
     "name": "stdout",
     "output_type": "stream",
     "text": [
      "Accuracy Score: 0.9489795918367347\n",
      "Precision Score: 0.9748743718592965\n",
      "True positive Rate: 0.9282296650717703\n",
      "False positive Rate 0.0273224043715847\n",
      "F1 Score: 0.9509803921568627\n",
      "Specificity: 0.9726775956284153\n",
      "Mean Absolute Error: 0.05102040816326531\n",
      "ROC Area: 0.9504536303500928\n"
     ]
    }
   ],
   "source": [
    "# Evaluate the Result\n",
    "from sklearn.metrics import accuracy_score, precision_score, recall_score, f1_score, mean_absolute_error, roc_auc_score\n",
    " \n",
    "# Accuracy Score \n",
    "print('Accuracy Score:', accuracy_score(y_test, y_pred)) \n",
    "\n",
    "# Precision Score\n",
    "print('Precision Score:', precision_score(y_test, y_pred))   \n",
    "\n",
    "# True positive Rate (TPR) or Sensitivity or Recall    \n",
    "print('True positive Rate:', recall_score(y_test, y_pred))             \n",
    "\n",
    "# False positive Rate (FPR)\n",
    "print('False positive Rate', FP / float(TN + FP))                       \n",
    "\n",
    "# F1 Score or F-Measure or F-Score\n",
    "print('F1 Score:', f1_score(y_test, y_pred))                 \n",
    "\n",
    "# Specificity\n",
    "print('Specificity:', TN / (TN + FP))                    \n",
    "\n",
    "# Mean Absolute Error\n",
    "print('Mean Absolute Error:', mean_absolute_error(y_test, y_pred))   \n",
    "\n",
    "# ROC Area\n",
    "print('ROC Area:', roc_auc_score(y_test, y_pred)) "
   ]
  },
  {
   "cell_type": "markdown",
   "id": "e245e3ba",
   "metadata": {},
   "source": [
    "### Part 5: Save, Load and Used this Model"
   ]
  },
  {
   "cell_type": "code",
   "execution_count": 17,
   "id": "a4b90aa3",
   "metadata": {
    "ExecuteTime": {
     "end_time": "2022-10-26T14:23:43.160573Z",
     "start_time": "2022-10-26T14:23:43.156582Z"
    }
   },
   "outputs": [],
   "source": [
    "# import pickle library \n",
    "import pickle               # pickle used for serializing and de-serializing a Python object structure"
   ]
  },
  {
   "cell_type": "code",
   "execution_count": 18,
   "id": "c8e1d04e",
   "metadata": {
    "ExecuteTime": {
     "end_time": "2022-10-26T14:23:44.165060Z",
     "start_time": "2022-10-26T14:23:44.127718Z"
    }
   },
   "outputs": [],
   "source": [
    "# save the model (Serialization using pickle)\n",
    "Support_Vector_Machine = open(\"model.pkl\",\"wb\")          # open the file for writing\n",
    "pickle.dump(classifier,Support_Vector_Machine)           # dumps an object to a file object\n",
    "Support_Vector_Machine.close()                           # here we close the fileObject"
   ]
  },
  {
   "cell_type": "code",
   "execution_count": 19,
   "id": "b80e92e2",
   "metadata": {
    "ExecuteTime": {
     "end_time": "2022-10-26T14:23:44.948539Z",
     "start_time": "2022-10-26T14:23:44.923589Z"
    }
   },
   "outputs": [
    {
     "data": {
      "text/plain": [
       "SVC(kernel='linear', random_state=0)"
      ]
     },
     "execution_count": 19,
     "metadata": {},
     "output_type": "execute_result"
    }
   ],
   "source": [
    "# Load the model (Deserialization using pickle)\n",
    "ytb_model = open(\"model.pkl\",\"rb\")           # open the file for reading\n",
    "new_model = pickle.load(ytb_model)           # load the object from the file into new_model\n",
    "new_model"
   ]
  },
  {
   "cell_type": "code",
   "execution_count": 20,
   "id": "dc144d65",
   "metadata": {
    "ExecuteTime": {
     "end_time": "2022-10-26T14:23:45.796031Z",
     "start_time": "2022-10-26T14:23:45.786880Z"
    }
   },
   "outputs": [
    {
     "data": {
      "text/plain": [
       "array([1], dtype=int64)"
      ]
     },
     "execution_count": 20,
     "metadata": {},
     "output_type": "execute_result"
    }
   ],
   "source": [
    "# Used the model for Prediction\n",
    "comment = [\"Hey Music Fans I really appreciate all of you,but see this song too\"]\n",
    "vect = cv.transform(comment).toarray()\n",
    "new_model.predict(vect)"
   ]
  },
  {
   "cell_type": "code",
   "execution_count": 21,
   "id": "420739d2",
   "metadata": {
    "ExecuteTime": {
     "end_time": "2022-10-26T14:23:47.038928Z",
     "start_time": "2022-10-26T14:23:47.030954Z"
    }
   },
   "outputs": [
    {
     "name": "stdout",
     "output_type": "stream",
     "text": [
      "Spam\n"
     ]
    }
   ],
   "source": [
    "if new_model.predict(vect) == 1:\n",
    "    print(\"Spam\")\n",
    "else:\n",
    "    print(\"Ham\")"
   ]
  },
  {
   "cell_type": "code",
   "execution_count": null,
   "id": "1103e5df",
   "metadata": {},
   "outputs": [],
   "source": []
  }
 ],
 "metadata": {
  "kernelspec": {
   "display_name": "Python 3 (ipykernel)",
   "language": "python",
   "name": "python3"
  },
  "language_info": {
   "codemirror_mode": {
    "name": "ipython",
    "version": 3
   },
   "file_extension": ".py",
   "mimetype": "text/x-python",
   "name": "python",
   "nbconvert_exporter": "python",
   "pygments_lexer": "ipython3",
   "version": "3.9.7"
  },
  "varInspector": {
   "cols": {
    "lenName": 16,
    "lenType": 16,
    "lenVar": 40
   },
   "kernels_config": {
    "python": {
     "delete_cmd_postfix": "",
     "delete_cmd_prefix": "del ",
     "library": "var_list.py",
     "varRefreshCmd": "print(var_dic_list())"
    },
    "r": {
     "delete_cmd_postfix": ") ",
     "delete_cmd_prefix": "rm(",
     "library": "var_list.r",
     "varRefreshCmd": "cat(var_dic_list()) "
    }
   },
   "types_to_exclude": [
    "module",
    "function",
    "builtin_function_or_method",
    "instance",
    "_Feature"
   ],
   "window_display": false
  }
 },
 "nbformat": 4,
 "nbformat_minor": 5
}
