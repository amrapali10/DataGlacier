{
 "cells": [
  {
   "cell_type": "markdown",
   "id": "a2102df4",
   "metadata": {},
   "source": [
    "## G2M insight for Cab Investment firm\n",
    "### G2M Case Study\n",
    "<b> Project detail:</b>\n",
    "You have been provided with multiple data sets that contains information on 2 cab companies. Each file (data set) provided represents different aspects of the customer profile. XYZ is interested in using your actionable insights to help them identify the right company to make their investment.\n",
    "\n",
    "The outcome of your delivery will be a presentation to XYZ’s Executive team. This presentation will be judged based on the visuals provided, the quality of your analysis and the value of your recommendations and insights.\n",
    "\n",
    "#### Data Set:\n",
    "You have been provided 4 individual data sets. Time period of data is from 31/01/2016 to 31/12/2018.\n",
    "\n",
    "Below are the list of datasets which are provided for the analysis:\n",
    "\n",
    "<b>Cab_Data.csv –</b> this file includes details of transaction for 2 cab companies\n",
    "\n",
    "<b>Customer_ID.csv –</b> this is a mapping table that contains a unique identifier which links the customer’s demographic details\n",
    "\n",
    "<b>Transaction_ID.csv –</b> this is a mapping table that contains transaction to customer mapping and payment mode\n",
    "\n",
    "<b>City.csv –</b> this file contains list of US cities, their population and number of cab users\n",
    "\n",
    "#### You should fully investigate and understand each data set.\n",
    "\n",
    "Review the Source Documentation\n",
    "Understand the field names and data types\n",
    "Identify relationships across the files\n",
    "Field/feature transformations\n",
    "Determine which files should be joined versus which ones should be appended\n",
    "Create master data and explain the relationship\n",
    "Identify and remove duplicates\n",
    "Perform other analysis like NA value and outlier detection"
   ]
  },
  {
   "cell_type": "markdown",
   "id": "69fe341f",
   "metadata": {},
   "source": [
    "## Import Libraries"
   ]
  },
  {
   "cell_type": "code",
   "execution_count": 2,
   "id": "83f0c0a1",
   "metadata": {
    "ExecuteTime": {
     "end_time": "2022-10-12T23:22:00.819104Z",
     "start_time": "2022-10-12T23:21:57.909661Z"
    }
   },
   "outputs": [
    {
     "name": "stderr",
     "output_type": "stream",
     "text": [
      "C:\\Users\\AMRAPALI\\anaconda3\\lib\\site-packages\\scipy\\__init__.py:146: UserWarning: A NumPy version >=1.16.5 and <1.23.0 is required for this version of SciPy (detected version 1.23.4\n",
      "  warnings.warn(f\"A NumPy version >={np_minversion} and <{np_maxversion}\"\n"
     ]
    }
   ],
   "source": [
    "import numpy as np\n",
    "import pandas as pd\n",
    "import matplotlib.pyplot as plt\n",
    "import seaborn as sns\n",
    "import scipy.stats as scs\n",
    "%matplotlib inline\n",
    "import warnings\n",
    "warnings.filterwarnings('ignore')\n",
    "from pandasql import sqldf\n",
    "from datetime import date, timedelta\n",
    "from unidecode import unidecode"
   ]
  },
  {
   "cell_type": "markdown",
   "id": "bd4600af",
   "metadata": {},
   "source": [
    "## Read CSV Files"
   ]
  },
  {
   "cell_type": "code",
   "execution_count": 3,
   "id": "55dd5272",
   "metadata": {
    "ExecuteTime": {
     "end_time": "2022-10-12T23:22:03.536599Z",
     "start_time": "2022-10-12T23:22:03.042634Z"
    }
   },
   "outputs": [],
   "source": [
    "df_city = pd.read_csv(\"City.csv\")\n",
    "df_cab_data = pd.read_csv(\"Cab_Data.csv\")\n",
    "df_customer_id = pd.read_csv(\"Customer_ID.csv\")\n",
    "df_transaction_id = pd.read_csv(\"Transaction_ID.csv\")"
   ]
  },
  {
   "cell_type": "markdown",
   "id": "b78527fd",
   "metadata": {},
   "source": [
    "## Display data"
   ]
  },
  {
   "cell_type": "code",
   "execution_count": 4,
   "id": "efbd71ac",
   "metadata": {
    "ExecuteTime": {
     "end_time": "2022-10-12T23:22:03.918257Z",
     "start_time": "2022-10-12T23:22:03.903299Z"
    }
   },
   "outputs": [
    {
     "data": {
      "text/html": [
       "<div>\n",
       "<style scoped>\n",
       "    .dataframe tbody tr th:only-of-type {\n",
       "        vertical-align: middle;\n",
       "    }\n",
       "\n",
       "    .dataframe tbody tr th {\n",
       "        vertical-align: top;\n",
       "    }\n",
       "\n",
       "    .dataframe thead th {\n",
       "        text-align: right;\n",
       "    }\n",
       "</style>\n",
       "<table border=\"1\" class=\"dataframe\">\n",
       "  <thead>\n",
       "    <tr style=\"text-align: right;\">\n",
       "      <th></th>\n",
       "      <th>City</th>\n",
       "      <th>Population</th>\n",
       "      <th>Users</th>\n",
       "    </tr>\n",
       "  </thead>\n",
       "  <tbody>\n",
       "    <tr>\n",
       "      <th>0</th>\n",
       "      <td>NEW YORK NY</td>\n",
       "      <td>8,405,837</td>\n",
       "      <td>302,149</td>\n",
       "    </tr>\n",
       "    <tr>\n",
       "      <th>1</th>\n",
       "      <td>CHICAGO IL</td>\n",
       "      <td>1,955,130</td>\n",
       "      <td>164,468</td>\n",
       "    </tr>\n",
       "    <tr>\n",
       "      <th>2</th>\n",
       "      <td>LOS ANGELES CA</td>\n",
       "      <td>1,595,037</td>\n",
       "      <td>144,132</td>\n",
       "    </tr>\n",
       "    <tr>\n",
       "      <th>3</th>\n",
       "      <td>MIAMI FL</td>\n",
       "      <td>1,339,155</td>\n",
       "      <td>17,675</td>\n",
       "    </tr>\n",
       "    <tr>\n",
       "      <th>4</th>\n",
       "      <td>SILICON VALLEY</td>\n",
       "      <td>1,177,609</td>\n",
       "      <td>27,247</td>\n",
       "    </tr>\n",
       "  </tbody>\n",
       "</table>\n",
       "</div>"
      ],
      "text/plain": [
       "             City   Population      Users\n",
       "0     NEW YORK NY   8,405,837    302,149 \n",
       "1      CHICAGO IL   1,955,130    164,468 \n",
       "2  LOS ANGELES CA   1,595,037    144,132 \n",
       "3        MIAMI FL   1,339,155     17,675 \n",
       "4  SILICON VALLEY   1,177,609     27,247 "
      ]
     },
     "execution_count": 4,
     "metadata": {},
     "output_type": "execute_result"
    }
   ],
   "source": [
    "df_city.head()"
   ]
  },
  {
   "cell_type": "code",
   "execution_count": 5,
   "id": "825252cf",
   "metadata": {
    "ExecuteTime": {
     "end_time": "2022-10-12T23:22:04.292590Z",
     "start_time": "2022-10-12T23:22:04.276631Z"
    }
   },
   "outputs": [
    {
     "data": {
      "text/html": [
       "<div>\n",
       "<style scoped>\n",
       "    .dataframe tbody tr th:only-of-type {\n",
       "        vertical-align: middle;\n",
       "    }\n",
       "\n",
       "    .dataframe tbody tr th {\n",
       "        vertical-align: top;\n",
       "    }\n",
       "\n",
       "    .dataframe thead th {\n",
       "        text-align: right;\n",
       "    }\n",
       "</style>\n",
       "<table border=\"1\" class=\"dataframe\">\n",
       "  <thead>\n",
       "    <tr style=\"text-align: right;\">\n",
       "      <th></th>\n",
       "      <th>Transaction ID</th>\n",
       "      <th>Date of Travel</th>\n",
       "      <th>Company</th>\n",
       "      <th>City</th>\n",
       "      <th>KM Travelled</th>\n",
       "      <th>Price Charged</th>\n",
       "      <th>Cost of Trip</th>\n",
       "    </tr>\n",
       "  </thead>\n",
       "  <tbody>\n",
       "    <tr>\n",
       "      <th>0</th>\n",
       "      <td>10000011</td>\n",
       "      <td>42377</td>\n",
       "      <td>Pink Cab</td>\n",
       "      <td>ATLANTA GA</td>\n",
       "      <td>30.45</td>\n",
       "      <td>370.95</td>\n",
       "      <td>313.635</td>\n",
       "    </tr>\n",
       "    <tr>\n",
       "      <th>1</th>\n",
       "      <td>10000012</td>\n",
       "      <td>42375</td>\n",
       "      <td>Pink Cab</td>\n",
       "      <td>ATLANTA GA</td>\n",
       "      <td>28.62</td>\n",
       "      <td>358.52</td>\n",
       "      <td>334.854</td>\n",
       "    </tr>\n",
       "    <tr>\n",
       "      <th>2</th>\n",
       "      <td>10000013</td>\n",
       "      <td>42371</td>\n",
       "      <td>Pink Cab</td>\n",
       "      <td>ATLANTA GA</td>\n",
       "      <td>9.04</td>\n",
       "      <td>125.20</td>\n",
       "      <td>97.632</td>\n",
       "    </tr>\n",
       "    <tr>\n",
       "      <th>3</th>\n",
       "      <td>10000014</td>\n",
       "      <td>42376</td>\n",
       "      <td>Pink Cab</td>\n",
       "      <td>ATLANTA GA</td>\n",
       "      <td>33.17</td>\n",
       "      <td>377.40</td>\n",
       "      <td>351.602</td>\n",
       "    </tr>\n",
       "    <tr>\n",
       "      <th>4</th>\n",
       "      <td>10000015</td>\n",
       "      <td>42372</td>\n",
       "      <td>Pink Cab</td>\n",
       "      <td>ATLANTA GA</td>\n",
       "      <td>8.73</td>\n",
       "      <td>114.62</td>\n",
       "      <td>97.776</td>\n",
       "    </tr>\n",
       "  </tbody>\n",
       "</table>\n",
       "</div>"
      ],
      "text/plain": [
       "   Transaction ID  Date of Travel   Company        City  KM Travelled  \\\n",
       "0        10000011           42377  Pink Cab  ATLANTA GA         30.45   \n",
       "1        10000012           42375  Pink Cab  ATLANTA GA         28.62   \n",
       "2        10000013           42371  Pink Cab  ATLANTA GA          9.04   \n",
       "3        10000014           42376  Pink Cab  ATLANTA GA         33.17   \n",
       "4        10000015           42372  Pink Cab  ATLANTA GA          8.73   \n",
       "\n",
       "   Price Charged  Cost of Trip  \n",
       "0         370.95       313.635  \n",
       "1         358.52       334.854  \n",
       "2         125.20        97.632  \n",
       "3         377.40       351.602  \n",
       "4         114.62        97.776  "
      ]
     },
     "execution_count": 5,
     "metadata": {},
     "output_type": "execute_result"
    }
   ],
   "source": [
    "df_cab_data.head()"
   ]
  },
  {
   "cell_type": "code",
   "execution_count": 6,
   "id": "45c48012",
   "metadata": {
    "ExecuteTime": {
     "end_time": "2022-10-12T23:22:04.565092Z",
     "start_time": "2022-10-12T23:22:04.552119Z"
    }
   },
   "outputs": [
    {
     "data": {
      "text/html": [
       "<div>\n",
       "<style scoped>\n",
       "    .dataframe tbody tr th:only-of-type {\n",
       "        vertical-align: middle;\n",
       "    }\n",
       "\n",
       "    .dataframe tbody tr th {\n",
       "        vertical-align: top;\n",
       "    }\n",
       "\n",
       "    .dataframe thead th {\n",
       "        text-align: right;\n",
       "    }\n",
       "</style>\n",
       "<table border=\"1\" class=\"dataframe\">\n",
       "  <thead>\n",
       "    <tr style=\"text-align: right;\">\n",
       "      <th></th>\n",
       "      <th>Customer ID</th>\n",
       "      <th>Gender</th>\n",
       "      <th>Age</th>\n",
       "      <th>Income (USD/Month)</th>\n",
       "    </tr>\n",
       "  </thead>\n",
       "  <tbody>\n",
       "    <tr>\n",
       "      <th>0</th>\n",
       "      <td>29290</td>\n",
       "      <td>Male</td>\n",
       "      <td>28</td>\n",
       "      <td>10813</td>\n",
       "    </tr>\n",
       "    <tr>\n",
       "      <th>1</th>\n",
       "      <td>27703</td>\n",
       "      <td>Male</td>\n",
       "      <td>27</td>\n",
       "      <td>9237</td>\n",
       "    </tr>\n",
       "    <tr>\n",
       "      <th>2</th>\n",
       "      <td>28712</td>\n",
       "      <td>Male</td>\n",
       "      <td>53</td>\n",
       "      <td>11242</td>\n",
       "    </tr>\n",
       "    <tr>\n",
       "      <th>3</th>\n",
       "      <td>28020</td>\n",
       "      <td>Male</td>\n",
       "      <td>23</td>\n",
       "      <td>23327</td>\n",
       "    </tr>\n",
       "    <tr>\n",
       "      <th>4</th>\n",
       "      <td>27182</td>\n",
       "      <td>Male</td>\n",
       "      <td>33</td>\n",
       "      <td>8536</td>\n",
       "    </tr>\n",
       "  </tbody>\n",
       "</table>\n",
       "</div>"
      ],
      "text/plain": [
       "   Customer ID Gender  Age  Income (USD/Month)\n",
       "0        29290   Male   28               10813\n",
       "1        27703   Male   27                9237\n",
       "2        28712   Male   53               11242\n",
       "3        28020   Male   23               23327\n",
       "4        27182   Male   33                8536"
      ]
     },
     "execution_count": 6,
     "metadata": {},
     "output_type": "execute_result"
    }
   ],
   "source": [
    "df_customer_id.head()"
   ]
  },
  {
   "cell_type": "code",
   "execution_count": 7,
   "id": "cccdb652",
   "metadata": {
    "ExecuteTime": {
     "end_time": "2022-10-12T23:22:04.860264Z",
     "start_time": "2022-10-12T23:22:04.849294Z"
    }
   },
   "outputs": [
    {
     "data": {
      "text/html": [
       "<div>\n",
       "<style scoped>\n",
       "    .dataframe tbody tr th:only-of-type {\n",
       "        vertical-align: middle;\n",
       "    }\n",
       "\n",
       "    .dataframe tbody tr th {\n",
       "        vertical-align: top;\n",
       "    }\n",
       "\n",
       "    .dataframe thead th {\n",
       "        text-align: right;\n",
       "    }\n",
       "</style>\n",
       "<table border=\"1\" class=\"dataframe\">\n",
       "  <thead>\n",
       "    <tr style=\"text-align: right;\">\n",
       "      <th></th>\n",
       "      <th>Transaction ID</th>\n",
       "      <th>Customer ID</th>\n",
       "      <th>Payment_Mode</th>\n",
       "    </tr>\n",
       "  </thead>\n",
       "  <tbody>\n",
       "    <tr>\n",
       "      <th>0</th>\n",
       "      <td>10000011</td>\n",
       "      <td>29290</td>\n",
       "      <td>Card</td>\n",
       "    </tr>\n",
       "    <tr>\n",
       "      <th>1</th>\n",
       "      <td>10000012</td>\n",
       "      <td>27703</td>\n",
       "      <td>Card</td>\n",
       "    </tr>\n",
       "    <tr>\n",
       "      <th>2</th>\n",
       "      <td>10000013</td>\n",
       "      <td>28712</td>\n",
       "      <td>Cash</td>\n",
       "    </tr>\n",
       "    <tr>\n",
       "      <th>3</th>\n",
       "      <td>10000014</td>\n",
       "      <td>28020</td>\n",
       "      <td>Cash</td>\n",
       "    </tr>\n",
       "    <tr>\n",
       "      <th>4</th>\n",
       "      <td>10000015</td>\n",
       "      <td>27182</td>\n",
       "      <td>Card</td>\n",
       "    </tr>\n",
       "  </tbody>\n",
       "</table>\n",
       "</div>"
      ],
      "text/plain": [
       "   Transaction ID  Customer ID Payment_Mode\n",
       "0        10000011        29290         Card\n",
       "1        10000012        27703         Card\n",
       "2        10000013        28712         Cash\n",
       "3        10000014        28020         Cash\n",
       "4        10000015        27182         Card"
      ]
     },
     "execution_count": 7,
     "metadata": {},
     "output_type": "execute_result"
    }
   ],
   "source": [
    "df_transaction_id.head()"
   ]
  },
  {
   "cell_type": "markdown",
   "id": "f3368f93",
   "metadata": {},
   "source": [
    "## Check NULL values"
   ]
  },
  {
   "cell_type": "code",
   "execution_count": 8,
   "id": "4e13c508",
   "metadata": {
    "ExecuteTime": {
     "end_time": "2022-10-12T23:22:05.428660Z",
     "start_time": "2022-10-12T23:22:05.424669Z"
    }
   },
   "outputs": [],
   "source": [
    "def renamecolumns(dataset):\n",
    "    for col in dataset.columns:\n",
    "        if ' ' in col:\n",
    "            dataset = dataset.rename(columns={col:col.replace(' ','_')})\n",
    "    return dataset"
   ]
  },
  {
   "cell_type": "code",
   "execution_count": 9,
   "id": "c850b50f",
   "metadata": {
    "ExecuteTime": {
     "end_time": "2022-10-12T23:22:05.816685Z",
     "start_time": "2022-10-12T23:22:05.714454Z"
    }
   },
   "outputs": [],
   "source": [
    "df_cab_data = renamecolumns(df_cab_data)\n",
    "df_city = renamecolumns(df_city)\n",
    "df_customer_id = renamecolumns(df_customer_id)\n",
    "df_transaction_id = renamecolumns(df_transaction_id)"
   ]
  },
  {
   "cell_type": "code",
   "execution_count": 10,
   "id": "e458fae9",
   "metadata": {
    "ExecuteTime": {
     "end_time": "2022-10-12T23:22:05.962480Z",
     "start_time": "2022-10-12T23:22:05.956492Z"
    }
   },
   "outputs": [],
   "source": [
    "def missing_datas(dataset):\n",
    "    total = dataset.isnull().sum().sort_values(ascending=False)\n",
    "    return total"
   ]
  },
  {
   "cell_type": "code",
   "execution_count": 11,
   "id": "8da71831",
   "metadata": {
    "ExecuteTime": {
     "end_time": "2022-10-12T23:22:06.270153Z",
     "start_time": "2022-10-12T23:22:06.231259Z"
    }
   },
   "outputs": [
    {
     "data": {
      "text/plain": [
       "Transaction_ID    0\n",
       "Date_of_Travel    0\n",
       "Company           0\n",
       "City              0\n",
       "KM_Travelled      0\n",
       "Price_Charged     0\n",
       "Cost_of_Trip      0\n",
       "dtype: int64"
      ]
     },
     "execution_count": 11,
     "metadata": {},
     "output_type": "execute_result"
    }
   ],
   "source": [
    "missing_datas(df_cab_data)"
   ]
  },
  {
   "cell_type": "code",
   "execution_count": 12,
   "id": "92cb0c8f",
   "metadata": {
    "ExecuteTime": {
     "end_time": "2022-10-12T23:22:06.749077Z",
     "start_time": "2022-10-12T23:22:06.740090Z"
    }
   },
   "outputs": [
    {
     "data": {
      "text/plain": [
       "City          0\n",
       "Population    0\n",
       "Users         0\n",
       "dtype: int64"
      ]
     },
     "execution_count": 12,
     "metadata": {},
     "output_type": "execute_result"
    }
   ],
   "source": [
    "missing_datas(df_city)"
   ]
  },
  {
   "cell_type": "code",
   "execution_count": 13,
   "id": "53687ae9",
   "metadata": {
    "ExecuteTime": {
     "end_time": "2022-10-12T23:22:07.190949Z",
     "start_time": "2022-10-12T23:22:07.181973Z"
    }
   },
   "outputs": [
    {
     "data": {
      "text/plain": [
       "Customer_ID           0\n",
       "Gender                0\n",
       "Age                   0\n",
       "Income_(USD/Month)    0\n",
       "dtype: int64"
      ]
     },
     "execution_count": 13,
     "metadata": {},
     "output_type": "execute_result"
    }
   ],
   "source": [
    "missing_datas(df_customer_id)"
   ]
  },
  {
   "cell_type": "code",
   "execution_count": 14,
   "id": "0b8652d9",
   "metadata": {
    "ExecuteTime": {
     "end_time": "2022-10-12T23:22:07.683788Z",
     "start_time": "2022-10-12T23:22:07.653213Z"
    }
   },
   "outputs": [
    {
     "data": {
      "text/plain": [
       "Transaction_ID    0\n",
       "Customer_ID       0\n",
       "Payment_Mode      0\n",
       "dtype: int64"
      ]
     },
     "execution_count": 14,
     "metadata": {},
     "output_type": "execute_result"
    }
   ],
   "source": [
    "missing_datas(df_transaction_id)"
   ]
  },
  {
   "cell_type": "markdown",
   "id": "15927234",
   "metadata": {},
   "source": [
    "## Display Numeric and Categoric Features"
   ]
  },
  {
   "cell_type": "code",
   "execution_count": 15,
   "id": "173d2487",
   "metadata": {
    "ExecuteTime": {
     "end_time": "2022-10-12T23:22:08.490815Z",
     "start_time": "2022-10-12T23:22:08.486318Z"
    }
   },
   "outputs": [],
   "source": [
    "# Function to identify numeric features\n",
    "def numeric_features(dataset):\n",
    "    numeric_col = dataset.select_dtypes(include=['number']).columns\n",
    "    return numeric_col\n",
    "\n",
    "# Function to identify categorical features\n",
    "def categorical_features(dataset):\n",
    "    categorical_col = dataset.select_dtypes(exclude=['number']).columns\n",
    "    return categorical_col"
   ]
  },
  {
   "cell_type": "code",
   "execution_count": 16,
   "id": "f29647c8",
   "metadata": {
    "ExecuteTime": {
     "end_time": "2022-10-12T23:22:08.925307Z",
     "start_time": "2022-10-12T23:22:08.917328Z"
    }
   },
   "outputs": [],
   "source": [
    "# display numeric and categorical features\n",
    "def display_numeric_categoric_feature(dataset):\n",
    "    numeric_columns = numeric_features(dataset)\n",
    "    print(\"Numeric Features:\")\n",
    "    print(numeric_columns)\n",
    "    print(\"====\"*20)\n",
    "    categorical_columns = categorical_features(dataset)\n",
    "    print(\"Categorical Features:\")\n",
    "    print(categorical_columns)"
   ]
  },
  {
   "cell_type": "code",
   "execution_count": 17,
   "id": "945ae3e3",
   "metadata": {
    "ExecuteTime": {
     "end_time": "2022-10-12T23:22:09.405751Z",
     "start_time": "2022-10-12T23:22:09.362310Z"
    }
   },
   "outputs": [
    {
     "name": "stdout",
     "output_type": "stream",
     "text": [
      "Numeric Features:\n",
      "Index(['Transaction_ID', 'Date_of_Travel', 'KM_Travelled', 'Price_Charged',\n",
      "       'Cost_of_Trip'],\n",
      "      dtype='object')\n",
      "================================================================================\n",
      "Categorical Features:\n",
      "Index(['Company', 'City'], dtype='object')\n"
     ]
    }
   ],
   "source": [
    "display_numeric_categoric_feature(df_cab_data)"
   ]
  },
  {
   "cell_type": "code",
   "execution_count": 18,
   "id": "8ce73131",
   "metadata": {
    "ExecuteTime": {
     "end_time": "2022-10-12T23:22:09.727312Z",
     "start_time": "2022-10-12T23:22:09.717340Z"
    }
   },
   "outputs": [
    {
     "name": "stdout",
     "output_type": "stream",
     "text": [
      "Numeric Features:\n",
      "Index([], dtype='object')\n",
      "================================================================================\n",
      "Categorical Features:\n",
      "Index(['City', 'Population', 'Users'], dtype='object')\n"
     ]
    }
   ],
   "source": [
    "display_numeric_categoric_feature(df_city)"
   ]
  },
  {
   "cell_type": "code",
   "execution_count": 19,
   "id": "83f3533d",
   "metadata": {
    "ExecuteTime": {
     "end_time": "2022-10-12T23:22:10.057434Z",
     "start_time": "2022-10-12T23:22:10.047445Z"
    }
   },
   "outputs": [
    {
     "name": "stdout",
     "output_type": "stream",
     "text": [
      "Numeric Features:\n",
      "Index(['Customer_ID', 'Age', 'Income_(USD/Month)'], dtype='object')\n",
      "================================================================================\n",
      "Categorical Features:\n",
      "Index(['Gender'], dtype='object')\n"
     ]
    }
   ],
   "source": [
    "display_numeric_categoric_feature(df_customer_id)"
   ]
  },
  {
   "cell_type": "code",
   "execution_count": 20,
   "id": "a43e4ae1",
   "metadata": {
    "ExecuteTime": {
     "end_time": "2022-10-12T23:22:10.429257Z",
     "start_time": "2022-10-12T23:22:10.409797Z"
    }
   },
   "outputs": [
    {
     "name": "stdout",
     "output_type": "stream",
     "text": [
      "Numeric Features:\n",
      "Index(['Transaction_ID', 'Customer_ID'], dtype='object')\n",
      "================================================================================\n",
      "Categorical Features:\n",
      "Index(['Payment_Mode'], dtype='object')\n"
     ]
    }
   ],
   "source": [
    "display_numeric_categoric_feature(df_transaction_id)"
   ]
  },
  {
   "cell_type": "markdown",
   "id": "3eacc966",
   "metadata": {},
   "source": [
    "## Univariate analysis of Continuous columns"
   ]
  },
  {
   "cell_type": "code",
   "execution_count": 21,
   "id": "e9430ccc",
   "metadata": {
    "ExecuteTime": {
     "end_time": "2022-10-12T23:22:11.094426Z",
     "start_time": "2022-10-12T23:22:11.082457Z"
    }
   },
   "outputs": [],
   "source": [
    "# Function to plot histograms\n",
    "def plot_continuous_columns(dataframe):\n",
    "    numeric_columns = numeric_features(dataframe)\n",
    "    dataframe = dataframe[numeric_columns]\n",
    "    \n",
    "    for i in range(0,len(numeric_columns),2):\n",
    "        if len(numeric_columns) > i+1:\n",
    "            plt.figure(figsize=(10,4))\n",
    "            plt.subplot(121)\n",
    "            sns.distplot(dataframe[numeric_columns[i]], kde=False)\n",
    "            plt.subplot(122)            \n",
    "            sns.distplot(dataframe[numeric_columns[i+1]], kde=False)\n",
    "            plt.tight_layout()\n",
    "            plt.show()\n",
    "\n",
    "        else:\n",
    "            sns.distplot(dataframe[numeric_columns[i]], kde=False)\n",
    "\n",
    "# Function to plot boxplots\n",
    "def plot_box_plots(dataframe):\n",
    "    numeric_columns = numeric_features(dataframe)\n",
    "    dataframe = dataframe[numeric_columns]\n",
    "    \n",
    "    for i in range(0,len(numeric_columns),2):\n",
    "        if len(numeric_columns) > i+1:\n",
    "            plt.figure(figsize=(10,4))\n",
    "            plt.subplot(121)\n",
    "            sns.boxplot(dataframe[numeric_columns[i]])\n",
    "            plt.subplot(122)            \n",
    "            sns.boxplot(dataframe[numeric_columns[i+1]])\n",
    "            plt.tight_layout()\n",
    "            plt.show()\n",
    "\n",
    "        else:\n",
    "            sns.boxplot(dataframe[numeric_columns[i]])"
   ]
  },
  {
   "cell_type": "code",
   "execution_count": 22,
   "id": "6635f560",
   "metadata": {
    "ExecuteTime": {
     "end_time": "2022-10-12T23:22:13.487307Z",
     "start_time": "2022-10-12T23:22:11.487494Z"
    }
   },
   "outputs": [
    {
     "data": {
      "image/png": "[encoded data removed]",
      "text/plain": [
       "<Figure size 720x288 with 2 Axes>"
      ]
     },
     "metadata": {
      "needs_background": "light"
     },
     "output_type": "display_data"
    },
    {
     "data": {
      "image/png": "[encoded data removed]",
      "text/plain": [
       "<Figure size 720x288 with 2 Axes>"
      ]
     },
     "metadata": {
      "needs_background": "light"
     },
     "output_type": "display_data"
    },
    {
     "data": {
      "image/png": "[encoded data removed]",
      "text/plain": [
       "<Figure size 432x288 with 1 Axes>"
      ]
     },
     "metadata": {
      "needs_background": "light"
     },
     "output_type": "display_data"
    },
    {
     "data": {
      "image/png": "[encoded data removed]",
      "text/plain": [
       "<Figure size 720x288 with 2 Axes>"
      ]
     },
     "metadata": {
      "needs_background": "light"
     },
     "output_type": "display_data"
    },
    {
     "data": {
      "image/png": "[encoded data removed]",
      "text/plain": [
       "<Figure size 720x288 with 2 Axes>"
      ]
     },
     "metadata": {
      "needs_background": "light"
     },
     "output_type": "display_data"
    },
    {
     "data": {
      "image/png": "[encoded data removed]",
      "text/plain": [
       "<Figure size 432x288 with 1 Axes>"
      ]
     },
     "metadata": {
      "needs_background": "light"
     },
     "output_type": "display_data"
    }
   ],
   "source": [
    "plot_continuous_columns(df_cab_data)            \n",
    "plot_box_plots(df_cab_data)"
   ]
  },
  {
   "cell_type": "code",
   "execution_count": 23,
   "id": "bc8dc34f",
   "metadata": {
    "ExecuteTime": {
     "end_time": "2022-10-12T23:22:15.256360Z",
     "start_time": "2022-10-12T23:22:13.509247Z"
    }
   },
   "outputs": [
    {
     "data": {
      "image/png": "[encoded data removed]",
      "text/plain": [
       "<Figure size 720x288 with 2 Axes>"
      ]
     },
     "metadata": {
      "needs_background": "light"
     },
     "output_type": "display_data"
    },
    {
     "data": {
      "image/png": "[encoded data removed]",
      "text/plain": [
       "<Figure size 432x288 with 1 Axes>"
      ]
     },
     "metadata": {
      "needs_background": "light"
     },
     "output_type": "display_data"
    },
    {
     "data": {
      "image/png": "[encoded data removed]",
      "text/plain": [
       "<Figure size 720x288 with 2 Axes>"
      ]
     },
     "metadata": {
      "needs_background": "light"
     },
     "output_type": "display_data"
    },
    {
     "data": {
      "image/png": "[encoded data removed]",
      "text/plain": [
       "<Figure size 432x288 with 1 Axes>"
      ]
     },
     "metadata": {
      "needs_background": "light"
     },
     "output_type": "display_data"
    }
   ],
   "source": [
    "plot_continuous_columns(df_customer_id)            \n",
    "plot_box_plots(df_customer_id)"
   ]
  },
  {
   "cell_type": "code",
   "execution_count": 24,
   "id": "6b58c0f9",
   "metadata": {
    "ExecuteTime": {
     "end_time": "2022-10-12T23:22:16.620954Z",
     "start_time": "2022-10-12T23:22:15.285284Z"
    }
   },
   "outputs": [
    {
     "data": {
      "image/png": "[encoded data removed]",
      "text/plain": [
       "<Figure size 720x288 with 2 Axes>"
      ]
     },
     "metadata": {
      "needs_background": "light"
     },
     "output_type": "display_data"
    },
    {
     "data": {
      "image/png": "[encoded data removed]",
      "text/plain": [
       "<Figure size 720x288 with 2 Axes>"
      ]
     },
     "metadata": {
      "needs_background": "light"
     },
     "output_type": "display_data"
    }
   ],
   "source": [
    "plot_continuous_columns(df_transaction_id)            \n",
    "plot_box_plots(df_transaction_id)"
   ]
  },
  {
   "cell_type": "markdown",
   "id": "0bd6a4f0",
   "metadata": {},
   "source": [
    "## EDA"
   ]
  },
  {
   "cell_type": "code",
   "execution_count": 25,
   "id": "a1e78f93",
   "metadata": {
    "ExecuteTime": {
     "end_time": "2022-10-12T23:22:16.710718Z",
     "start_time": "2022-10-12T23:22:16.632919Z"
    }
   },
   "outputs": [],
   "source": [
    "PinkCab = df_cab_data[df_cab_data['Company']=='Pink Cab']\n",
    "YellowCab = df_cab_data[df_cab_data['Company']=='Yellow Cab']"
   ]
  },
  {
   "cell_type": "code",
   "execution_count": 26,
   "id": "c01ed631",
   "metadata": {
    "ExecuteTime": {
     "end_time": "2022-10-12T23:22:17.158573Z",
     "start_time": "2022-10-12T23:22:16.722688Z"
    }
   },
   "outputs": [
    {
     "data": {
      "image/png": "[encoded data removed]",
      "text/plain": [
       "<Figure size 1440x504 with 2 Axes>"
      ]
     },
     "metadata": {
      "needs_background": "light"
     },
     "output_type": "display_data"
    }
   ],
   "source": [
    "fig, (ax1, ax2) = plt.subplots(ncols=2, figsize=(20,7))\n",
    "sns.boxplot(PinkCab['Price_Charged'], ax=ax1)\n",
    "ax1.set_title('Pink Cab', fontsize=20)\n",
    "sns.boxplot(YellowCab['Price_Charged'], ax=ax2)\n",
    "ax2.set_title('Yellow Cab', fontsize=20)\n",
    "plt.show()"
   ]
  },
  {
   "cell_type": "code",
   "execution_count": 27,
   "id": "2501dcd0",
   "metadata": {
    "ExecuteTime": {
     "end_time": "2022-10-12T23:22:19.089875Z",
     "start_time": "2022-10-12T23:22:17.170543Z"
    }
   },
   "outputs": [
    {
     "data": {
      "image/png": "[encoded data removed]",
      "text/plain": [
       "<Figure size 1440x504 with 2 Axes>"
      ]
     },
     "metadata": {
      "needs_background": "light"
     },
     "output_type": "display_data"
    }
   ],
   "source": [
    "fig, (ax1, ax2) = plt.subplots(ncols=2, figsize=(20,7))\n",
    "sns.distplot(PinkCab['KM_Travelled'], ax=ax1)\n",
    "ax1.set_title('Pink Cab', fontsize=20)\n",
    "sns.distplot(YellowCab['KM_Travelled'], ax=ax2)\n",
    "ax2.set_title('Yellow Cab', fontsize=20)\n",
    "plt.show()"
   ]
  },
  {
   "cell_type": "markdown",
   "id": "402c2124",
   "metadata": {},
   "source": [
    "## Analysis"
   ]
  },
  {
   "cell_type": "markdown",
   "id": "0a962ad9",
   "metadata": {
    "ExecuteTime": {
     "end_time": "2022-10-11T13:36:46.989860Z",
     "start_time": "2022-10-11T13:36:46.969911Z"
    }
   },
   "source": [
    "## 1. Profit Analysis"
   ]
  },
  {
   "cell_type": "code",
   "execution_count": 28,
   "id": "1d762624",
   "metadata": {
    "ExecuteTime": {
     "end_time": "2022-10-12T23:22:19.880898Z",
     "start_time": "2022-10-12T23:22:19.115770Z"
    }
   },
   "outputs": [
    {
     "data": {
      "text/plain": [
       "0    2016-01-08\n",
       "1    2016-01-06\n",
       "2    2016-01-02\n",
       "3    2016-01-07\n",
       "4    2016-01-03\n",
       "Name: Date_of_Travel, dtype: object"
      ]
     },
     "execution_count": 28,
     "metadata": {},
     "output_type": "execute_result"
    }
   ],
   "source": [
    "df_cab_data['Date_of_Travel'] = df_cab_data['Date_of_Travel'].apply(lambda x:date(1899,12,30) + timedelta(days=x))\n",
    "df_cab_data['Date_of_Travel'].head()"
   ]
  },
  {
   "cell_type": "code",
   "execution_count": 29,
   "id": "5adf6655",
   "metadata": {
    "ExecuteTime": {
     "end_time": "2022-10-12T23:22:20.240593Z",
     "start_time": "2022-10-12T23:22:20.100481Z"
    }
   },
   "outputs": [
    {
     "data": {
      "text/plain": [
       "count         359392\n",
       "unique          1095\n",
       "top       2018-01-05\n",
       "freq            2022\n",
       "Name: Date_of_Travel, dtype: object"
      ]
     },
     "execution_count": 29,
     "metadata": {},
     "output_type": "execute_result"
    }
   ],
   "source": [
    "df_cab_data['Date_of_Travel'].describe()"
   ]
  },
  {
   "cell_type": "code",
   "execution_count": 30,
   "id": "ee7190fe",
   "metadata": {
    "ExecuteTime": {
     "end_time": "2022-10-12T23:22:21.120508Z",
     "start_time": "2022-10-12T23:22:20.993563Z"
    }
   },
   "outputs": [],
   "source": [
    "df_cab_data['Date_of_Travel'] = pd.to_datetime(df_cab_data['Date_of_Travel'])"
   ]
  },
  {
   "cell_type": "code",
   "execution_count": 31,
   "id": "3bd78372",
   "metadata": {
    "ExecuteTime": {
     "end_time": "2022-10-12T23:22:21.719914Z",
     "start_time": "2022-10-12T23:22:21.587922Z"
    }
   },
   "outputs": [],
   "source": [
    "df_cab_data['year'], df_cab_data['month'], df_cab_data['day'] = df_cab_data['Date_of_Travel'].dt.year, df_cab_data['Date_of_Travel'].dt.month, df_cab_data['Date_of_Travel'].dt.day"
   ]
  },
  {
   "cell_type": "code",
   "execution_count": 32,
   "id": "4740aa46",
   "metadata": {
    "ExecuteTime": {
     "end_time": "2022-10-12T23:22:22.121855Z",
     "start_time": "2022-10-12T23:22:22.112312Z"
    }
   },
   "outputs": [
    {
     "data": {
      "text/plain": [
       "<bound method Series.unique of 0         2016\n",
       "1         2016\n",
       "2         2016\n",
       "3         2016\n",
       "4         2016\n",
       "          ... \n",
       "359387    2018\n",
       "359388    2018\n",
       "359389    2018\n",
       "359390    2018\n",
       "359391    2018\n",
       "Name: year, Length: 359392, dtype: int64>"
      ]
     },
     "execution_count": 32,
     "metadata": {},
     "output_type": "execute_result"
    }
   ],
   "source": [
    "df_cab_data['year'].unique"
   ]
  },
  {
   "cell_type": "code",
   "execution_count": 33,
   "id": "cb9cb7fd",
   "metadata": {
    "ExecuteTime": {
     "end_time": "2022-10-12T23:22:22.768657Z",
     "start_time": "2022-10-12T23:22:22.749671Z"
    }
   },
   "outputs": [],
   "source": [
    "df_cab_data['profit'] = round((df_cab_data['Price_Charged'] - df_cab_data['Cost_of_Trip']),2)\n",
    "df_cab_data['avg_profit'] = round(((df_cab_data['Price_Charged'] - df_cab_data['Cost_of_Trip'])/df_cab_data['KM_Travelled']),2)"
   ]
  },
  {
   "cell_type": "code",
   "execution_count": 34,
   "id": "b121c94c",
   "metadata": {
    "ExecuteTime": {
     "end_time": "2022-10-12T23:22:23.446833Z",
     "start_time": "2022-10-12T23:22:23.422387Z"
    }
   },
   "outputs": [
    {
     "data": {
      "text/html": [
       "<div>\n",
       "<style scoped>\n",
       "    .dataframe tbody tr th:only-of-type {\n",
       "        vertical-align: middle;\n",
       "    }\n",
       "\n",
       "    .dataframe tbody tr th {\n",
       "        vertical-align: top;\n",
       "    }\n",
       "\n",
       "    .dataframe thead th {\n",
       "        text-align: right;\n",
       "    }\n",
       "</style>\n",
       "<table border=\"1\" class=\"dataframe\">\n",
       "  <thead>\n",
       "    <tr style=\"text-align: right;\">\n",
       "      <th></th>\n",
       "      <th>Transaction_ID</th>\n",
       "      <th>Date_of_Travel</th>\n",
       "      <th>Company</th>\n",
       "      <th>City</th>\n",
       "      <th>KM_Travelled</th>\n",
       "      <th>Price_Charged</th>\n",
       "      <th>Cost_of_Trip</th>\n",
       "      <th>year</th>\n",
       "      <th>month</th>\n",
       "      <th>day</th>\n",
       "      <th>profit</th>\n",
       "      <th>avg_profit</th>\n",
       "    </tr>\n",
       "  </thead>\n",
       "  <tbody>\n",
       "    <tr>\n",
       "      <th>0</th>\n",
       "      <td>10000011</td>\n",
       "      <td>2016-01-08</td>\n",
       "      <td>Pink Cab</td>\n",
       "      <td>ATLANTA GA</td>\n",
       "      <td>30.45</td>\n",
       "      <td>370.95</td>\n",
       "      <td>313.635</td>\n",
       "      <td>2016</td>\n",
       "      <td>1</td>\n",
       "      <td>8</td>\n",
       "      <td>57.32</td>\n",
       "      <td>1.88</td>\n",
       "    </tr>\n",
       "    <tr>\n",
       "      <th>1</th>\n",
       "      <td>10000012</td>\n",
       "      <td>2016-01-06</td>\n",
       "      <td>Pink Cab</td>\n",
       "      <td>ATLANTA GA</td>\n",
       "      <td>28.62</td>\n",
       "      <td>358.52</td>\n",
       "      <td>334.854</td>\n",
       "      <td>2016</td>\n",
       "      <td>1</td>\n",
       "      <td>6</td>\n",
       "      <td>23.67</td>\n",
       "      <td>0.83</td>\n",
       "    </tr>\n",
       "    <tr>\n",
       "      <th>2</th>\n",
       "      <td>10000013</td>\n",
       "      <td>2016-01-02</td>\n",
       "      <td>Pink Cab</td>\n",
       "      <td>ATLANTA GA</td>\n",
       "      <td>9.04</td>\n",
       "      <td>125.20</td>\n",
       "      <td>97.632</td>\n",
       "      <td>2016</td>\n",
       "      <td>1</td>\n",
       "      <td>2</td>\n",
       "      <td>27.57</td>\n",
       "      <td>3.05</td>\n",
       "    </tr>\n",
       "    <tr>\n",
       "      <th>3</th>\n",
       "      <td>10000014</td>\n",
       "      <td>2016-01-07</td>\n",
       "      <td>Pink Cab</td>\n",
       "      <td>ATLANTA GA</td>\n",
       "      <td>33.17</td>\n",
       "      <td>377.40</td>\n",
       "      <td>351.602</td>\n",
       "      <td>2016</td>\n",
       "      <td>1</td>\n",
       "      <td>7</td>\n",
       "      <td>25.80</td>\n",
       "      <td>0.78</td>\n",
       "    </tr>\n",
       "    <tr>\n",
       "      <th>4</th>\n",
       "      <td>10000015</td>\n",
       "      <td>2016-01-03</td>\n",
       "      <td>Pink Cab</td>\n",
       "      <td>ATLANTA GA</td>\n",
       "      <td>8.73</td>\n",
       "      <td>114.62</td>\n",
       "      <td>97.776</td>\n",
       "      <td>2016</td>\n",
       "      <td>1</td>\n",
       "      <td>3</td>\n",
       "      <td>16.84</td>\n",
       "      <td>1.93</td>\n",
       "    </tr>\n",
       "  </tbody>\n",
       "</table>\n",
       "</div>"
      ],
      "text/plain": [
       "   Transaction_ID Date_of_Travel   Company        City  KM_Travelled  \\\n",
       "0        10000011     2016-01-08  Pink Cab  ATLANTA GA         30.45   \n",
       "1        10000012     2016-01-06  Pink Cab  ATLANTA GA         28.62   \n",
       "2        10000013     2016-01-02  Pink Cab  ATLANTA GA          9.04   \n",
       "3        10000014     2016-01-07  Pink Cab  ATLANTA GA         33.17   \n",
       "4        10000015     2016-01-03  Pink Cab  ATLANTA GA          8.73   \n",
       "\n",
       "   Price_Charged  Cost_of_Trip  year  month  day  profit  avg_profit  \n",
       "0         370.95       313.635  2016      1    8   57.32        1.88  \n",
       "1         358.52       334.854  2016      1    6   23.67        0.83  \n",
       "2         125.20        97.632  2016      1    2   27.57        3.05  \n",
       "3         377.40       351.602  2016      1    7   25.80        0.78  \n",
       "4         114.62        97.776  2016      1    3   16.84        1.93  "
      ]
     },
     "execution_count": 34,
     "metadata": {},
     "output_type": "execute_result"
    }
   ],
   "source": [
    "df_cab_data.head()"
   ]
  },
  {
   "cell_type": "code",
   "execution_count": 35,
   "id": "80bfa0b8",
   "metadata": {
    "ExecuteTime": {
     "end_time": "2022-10-12T23:22:24.116389Z",
     "start_time": "2022-10-12T23:22:23.971470Z"
    }
   },
   "outputs": [],
   "source": [
    "profit_year = pd.pivot_table(data = df_cab_data, index=['year'], columns= ['Company'], values = ['avg_profit'], aggfunc=np.average)"
   ]
  },
  {
   "cell_type": "code",
   "execution_count": 36,
   "id": "912a9ee9",
   "metadata": {
    "ExecuteTime": {
     "end_time": "2022-10-12T23:22:24.588639Z",
     "start_time": "2022-10-12T23:22:24.570658Z"
    }
   },
   "outputs": [],
   "source": [
    "profit_year['avg_profit'] = round(profit_year['avg_profit'],2)"
   ]
  },
  {
   "cell_type": "code",
   "execution_count": 37,
   "id": "41ad4e5b",
   "metadata": {
    "ExecuteTime": {
     "end_time": "2022-10-12T23:22:25.014784Z",
     "start_time": "2022-10-12T23:22:24.999825Z"
    }
   },
   "outputs": [
    {
     "data": {
      "text/html": [
       "<div>\n",
       "<style scoped>\n",
       "    .dataframe tbody tr th:only-of-type {\n",
       "        vertical-align: middle;\n",
       "    }\n",
       "\n",
       "    .dataframe tbody tr th {\n",
       "        vertical-align: top;\n",
       "    }\n",
       "\n",
       "    .dataframe thead tr th {\n",
       "        text-align: left;\n",
       "    }\n",
       "\n",
       "    .dataframe thead tr:last-of-type th {\n",
       "        text-align: right;\n",
       "    }\n",
       "</style>\n",
       "<table border=\"1\" class=\"dataframe\">\n",
       "  <thead>\n",
       "    <tr>\n",
       "      <th></th>\n",
       "      <th colspan=\"2\" halign=\"left\">avg_profit</th>\n",
       "    </tr>\n",
       "    <tr>\n",
       "      <th>Company</th>\n",
       "      <th>Pink Cab</th>\n",
       "      <th>Yellow Cab</th>\n",
       "    </tr>\n",
       "    <tr>\n",
       "      <th>year</th>\n",
       "      <th></th>\n",
       "      <th></th>\n",
       "    </tr>\n",
       "  </thead>\n",
       "  <tbody>\n",
       "    <tr>\n",
       "      <th>2016</th>\n",
       "      <td>3.03</td>\n",
       "      <td>7.49</td>\n",
       "    </tr>\n",
       "    <tr>\n",
       "      <th>2017</th>\n",
       "      <td>2.96</td>\n",
       "      <td>7.49</td>\n",
       "    </tr>\n",
       "    <tr>\n",
       "      <th>2018</th>\n",
       "      <td>2.35</td>\n",
       "      <td>6.36</td>\n",
       "    </tr>\n",
       "  </tbody>\n",
       "</table>\n",
       "</div>"
      ],
      "text/plain": [
       "        avg_profit           \n",
       "Company   Pink Cab Yellow Cab\n",
       "year                         \n",
       "2016          3.03       7.49\n",
       "2017          2.96       7.49\n",
       "2018          2.35       6.36"
      ]
     },
     "execution_count": 37,
     "metadata": {},
     "output_type": "execute_result"
    }
   ],
   "source": [
    "profit_year.head()"
   ]
  },
  {
   "cell_type": "code",
   "execution_count": 38,
   "id": "fb1c92ca",
   "metadata": {
    "ExecuteTime": {
     "end_time": "2022-10-12T23:22:25.836360Z",
     "start_time": "2022-10-12T23:22:25.638767Z"
    }
   },
   "outputs": [
    {
     "data": {
      "text/plain": [
       "Text(0.5, 1.0, 'Average Profit Yearly')"
      ]
     },
     "execution_count": 38,
     "metadata": {},
     "output_type": "execute_result"
    },
    {
     "data": {
      "image/png": "[encoded data removed]",
      "text/plain": [
       "<Figure size 576x432 with 1 Axes>"
      ]
     },
     "metadata": {
      "needs_background": "light"
     },
     "output_type": "display_data"
    }
   ],
   "source": [
    "colors = ['pink','yellow']\n",
    "ax = profit_year.plot(kind='bar',color=colors,  figsize=(8, 6), rot=0, xlabel='Year', ylabel='Average Profit per KM')\n",
    "for c in ax.containers:\n",
    "\n",
    "    # Optional: if the segment is small or 0, customize the labels\n",
    "    labels = [v.get_height() if v.get_height() > 0 else '' for v in c]\n",
    "    \n",
    "    # remove the labels parameter if it's not needed for customized labels\n",
    "    ax.bar_label(c, labels=labels, label_type='center')\n",
    "ax.set_title(\"Average Profit Yearly\")    "
   ]
  },
  {
   "cell_type": "code",
   "execution_count": 39,
   "id": "e657d262",
   "metadata": {
    "ExecuteTime": {
     "end_time": "2022-10-12T23:22:26.522445Z",
     "start_time": "2022-10-12T23:22:26.437646Z"
    }
   },
   "outputs": [],
   "source": [
    "profit_month = pd.pivot_table(data = df_cab_data, index=['month'], columns= ['Company'], values = ['avg_profit'], aggfunc=np.average)"
   ]
  },
  {
   "cell_type": "code",
   "execution_count": 40,
   "id": "2826a060",
   "metadata": {
    "ExecuteTime": {
     "end_time": "2022-10-12T23:22:27.360477Z",
     "start_time": "2022-10-12T23:22:27.350533Z"
    }
   },
   "outputs": [],
   "source": [
    "profit_month['avg_profit'] = round(profit_month['avg_profit'],2)"
   ]
  },
  {
   "cell_type": "code",
   "execution_count": 41,
   "id": "27407e9e",
   "metadata": {
    "ExecuteTime": {
     "end_time": "2022-10-12T23:22:27.808359Z",
     "start_time": "2022-10-12T23:22:27.803370Z"
    }
   },
   "outputs": [],
   "source": [
    "#profit_month = profit_month[profit_month['avg_profit','year'] == 2016]"
   ]
  },
  {
   "cell_type": "code",
   "execution_count": 42,
   "id": "4823879e",
   "metadata": {
    "ExecuteTime": {
     "end_time": "2022-10-12T23:22:28.498545Z",
     "start_time": "2022-10-12T23:22:28.234204Z"
    }
   },
   "outputs": [
    {
     "data": {
      "text/plain": [
       "Text(0.5, 1.0, 'Average Profit Monthly')"
      ]
     },
     "execution_count": 42,
     "metadata": {},
     "output_type": "execute_result"
    },
    {
     "data": {
      "image/png": "[encoded data removed]",
      "text/plain": [
       "<Figure size 720x576 with 1 Axes>"
      ]
     },
     "metadata": {
      "needs_background": "light"
     },
     "output_type": "display_data"
    }
   ],
   "source": [
    "colors = ['pink','yellow']\n",
    "ax = profit_month.plot(kind='bar',color = colors, figsize=(10, 8), rot=0, xlabel='month', ylabel='Average Profit per KM')\n",
    "for c in ax.containers:\n",
    "\n",
    "    # Optional: if the segment is small or 0, customize the labels\n",
    "    labels = [v.get_height() if v.get_height() > 0 else '' for v in c]\n",
    "    \n",
    "    # remove the labels parameter if it's not needed for customized labels\n",
    "    ax.bar_label(c, labels=labels, label_type='center')\n",
    "ax.set_title(\"Average Profit Monthly\")       "
   ]
  },
  {
   "cell_type": "code",
   "execution_count": 43,
   "id": "f83bb3fa",
   "metadata": {
    "ExecuteTime": {
     "end_time": "2022-10-12T23:22:28.819080Z",
     "start_time": "2022-10-12T23:22:28.705063Z"
    }
   },
   "outputs": [],
   "source": [
    "profit_city = pd.pivot_table(data = df_cab_data, index=['City'], columns= ['Company'], values = ['avg_profit'], aggfunc=np.average)\n",
    "profit_city = profit_city.reindex(profit_city['avg_profit'].sort_values(by=['Yellow Cab'], ascending=False).index) "
   ]
  },
  {
   "cell_type": "code",
   "execution_count": 44,
   "id": "55882037",
   "metadata": {
    "ExecuteTime": {
     "end_time": "2022-10-12T23:22:29.204392Z",
     "start_time": "2022-10-12T23:22:29.198407Z"
    }
   },
   "outputs": [
    {
     "data": {
      "text/plain": [
       "MultiIndex([('avg_profit',   'Pink Cab'),\n",
       "            ('avg_profit', 'Yellow Cab')],\n",
       "           names=[None, 'Company'])"
      ]
     },
     "execution_count": 44,
     "metadata": {},
     "output_type": "execute_result"
    }
   ],
   "source": [
    "profit_city.columns"
   ]
  },
  {
   "cell_type": "code",
   "execution_count": 45,
   "id": "888fbe6a",
   "metadata": {
    "ExecuteTime": {
     "end_time": "2022-10-12T23:22:29.639181Z",
     "start_time": "2022-10-12T23:22:29.629210Z"
    }
   },
   "outputs": [
    {
     "data": {
      "text/html": [
       "<div>\n",
       "<style scoped>\n",
       "    .dataframe tbody tr th:only-of-type {\n",
       "        vertical-align: middle;\n",
       "    }\n",
       "\n",
       "    .dataframe tbody tr th {\n",
       "        vertical-align: top;\n",
       "    }\n",
       "\n",
       "    .dataframe thead tr th {\n",
       "        text-align: left;\n",
       "    }\n",
       "\n",
       "    .dataframe thead tr:last-of-type th {\n",
       "        text-align: right;\n",
       "    }\n",
       "</style>\n",
       "<table border=\"1\" class=\"dataframe\">\n",
       "  <thead>\n",
       "    <tr>\n",
       "      <th></th>\n",
       "      <th colspan=\"2\" halign=\"left\">avg_profit</th>\n",
       "    </tr>\n",
       "    <tr>\n",
       "      <th>Company</th>\n",
       "      <th>Pink Cab</th>\n",
       "      <th>Yellow Cab</th>\n",
       "    </tr>\n",
       "    <tr>\n",
       "      <th>City</th>\n",
       "      <th></th>\n",
       "      <th></th>\n",
       "    </tr>\n",
       "  </thead>\n",
       "  <tbody>\n",
       "    <tr>\n",
       "      <th>NEW YORK NY</th>\n",
       "      <td>4.790455</td>\n",
       "      <td>13.680693</td>\n",
       "    </tr>\n",
       "    <tr>\n",
       "      <th>SILICON VALLEY</th>\n",
       "      <td>3.898375</td>\n",
       "      <td>9.046874</td>\n",
       "    </tr>\n",
       "    <tr>\n",
       "      <th>DALLAS TX</th>\n",
       "      <td>0.825203</td>\n",
       "      <td>8.659785</td>\n",
       "    </tr>\n",
       "    <tr>\n",
       "      <th>DENVER CO</th>\n",
       "      <td>1.275983</td>\n",
       "      <td>6.538268</td>\n",
       "    </tr>\n",
       "    <tr>\n",
       "      <th>ORANGE COUNTY</th>\n",
       "      <td>3.009061</td>\n",
       "      <td>6.439275</td>\n",
       "    </tr>\n",
       "  </tbody>\n",
       "</table>\n",
       "</div>"
      ],
      "text/plain": [
       "               avg_profit           \n",
       "Company          Pink Cab Yellow Cab\n",
       "City                                \n",
       "NEW YORK NY      4.790455  13.680693\n",
       "SILICON VALLEY   3.898375   9.046874\n",
       "DALLAS TX        0.825203   8.659785\n",
       "DENVER CO        1.275983   6.538268\n",
       "ORANGE COUNTY    3.009061   6.439275"
      ]
     },
     "execution_count": 45,
     "metadata": {},
     "output_type": "execute_result"
    }
   ],
   "source": [
    "profit_city.head()"
   ]
  },
  {
   "cell_type": "code",
   "execution_count": 46,
   "id": "eab1264c",
   "metadata": {
    "ExecuteTime": {
     "end_time": "2022-10-12T23:22:30.372057Z",
     "start_time": "2022-10-12T23:22:30.366074Z"
    }
   },
   "outputs": [],
   "source": [
    "profit_city['avg_profit'] = round(profit_city['avg_profit'],2)"
   ]
  },
  {
   "cell_type": "code",
   "execution_count": 47,
   "id": "35ae8fb6",
   "metadata": {
    "ExecuteTime": {
     "end_time": "2022-10-12T23:22:31.689631Z",
     "start_time": "2022-10-12T23:22:31.246833Z"
    }
   },
   "outputs": [
    {
     "data": {
      "text/plain": [
       "Text(0.5, 1.0, 'Citywise Average Profit ')"
      ]
     },
     "execution_count": 47,
     "metadata": {},
     "output_type": "execute_result"
    },
    {
     "data": {
      "image/png": "[encoded data removed]",
      "text/plain": [
       "<Figure size 720x576 with 1 Axes>"
      ]
     },
     "metadata": {
      "needs_background": "light"
     },
     "output_type": "display_data"
    }
   ],
   "source": [
    "colors = ['pink','yellow']\n",
    "ax = profit_city.plot(kind='bar',color = colors,  figsize=(10, 8), rot=0, xlabel='Cities', ylabel='Average Profit per KM')\n",
    "for c in ax.containers:\n",
    "\n",
    "    # Optional: if the segment is small or 0, customize the labels\n",
    "    labels = [v.get_height() if v.get_height() > 0 else '' for v in c]\n",
    "    \n",
    "    # remove the labels parameter if it's not needed for customized labels\n",
    "    ax.bar_label(c, labels=labels, label_type='center')\n",
    "plt.xticks(rotation=90, ha='right')\n",
    "ax.set_title(\"Citywise Average Profit \")   "
   ]
  },
  {
   "cell_type": "code",
   "execution_count": 48,
   "id": "4e573d8e",
   "metadata": {
    "ExecuteTime": {
     "end_time": "2022-10-12T23:22:32.064215Z",
     "start_time": "2022-10-12T23:22:31.850239Z"
    }
   },
   "outputs": [],
   "source": [
    "profit_year_trend = pd.pivot_table(data = df_cab_data, index=['year'], columns= ['Company'],values = ['profit'], aggfunc=np.sum)"
   ]
  },
  {
   "cell_type": "code",
   "execution_count": 49,
   "id": "1ba30588",
   "metadata": {
    "ExecuteTime": {
     "end_time": "2022-10-12T23:22:32.841164Z",
     "start_time": "2022-10-12T23:22:32.824209Z"
    }
   },
   "outputs": [
    {
     "data": {
      "text/html": [
       "<div>\n",
       "<style scoped>\n",
       "    .dataframe tbody tr th:only-of-type {\n",
       "        vertical-align: middle;\n",
       "    }\n",
       "\n",
       "    .dataframe tbody tr th {\n",
       "        vertical-align: top;\n",
       "    }\n",
       "\n",
       "    .dataframe thead tr th {\n",
       "        text-align: left;\n",
       "    }\n",
       "\n",
       "    .dataframe thead tr:last-of-type th {\n",
       "        text-align: right;\n",
       "    }\n",
       "</style>\n",
       "<table border=\"1\" class=\"dataframe\">\n",
       "  <thead>\n",
       "    <tr>\n",
       "      <th></th>\n",
       "      <th colspan=\"2\" halign=\"left\">profit</th>\n",
       "    </tr>\n",
       "    <tr>\n",
       "      <th>Company</th>\n",
       "      <th>Pink Cab</th>\n",
       "      <th>Yellow Cab</th>\n",
       "    </tr>\n",
       "    <tr>\n",
       "      <th>year</th>\n",
       "      <th></th>\n",
       "      <th></th>\n",
       "    </tr>\n",
       "  </thead>\n",
       "  <tbody>\n",
       "    <tr>\n",
       "      <th>2016</th>\n",
       "      <td>1713511.27</td>\n",
       "      <td>13926996.40</td>\n",
       "    </tr>\n",
       "    <tr>\n",
       "      <th>2017</th>\n",
       "      <td>2033655.24</td>\n",
       "      <td>16575977.40</td>\n",
       "    </tr>\n",
       "    <tr>\n",
       "      <th>2018</th>\n",
       "      <td>1560162.00</td>\n",
       "      <td>13517398.79</td>\n",
       "    </tr>\n",
       "  </tbody>\n",
       "</table>\n",
       "</div>"
      ],
      "text/plain": [
       "             profit             \n",
       "Company    Pink Cab   Yellow Cab\n",
       "year                            \n",
       "2016     1713511.27  13926996.40\n",
       "2017     2033655.24  16575977.40\n",
       "2018     1560162.00  13517398.79"
      ]
     },
     "execution_count": 49,
     "metadata": {},
     "output_type": "execute_result"
    }
   ],
   "source": [
    "profit_year_trend.head()"
   ]
  },
  {
   "cell_type": "code",
   "execution_count": 50,
   "id": "0d797bd0",
   "metadata": {
    "ExecuteTime": {
     "end_time": "2022-10-12T23:22:33.763081Z",
     "start_time": "2022-10-12T23:22:33.408983Z"
    }
   },
   "outputs": [
    {
     "data": {
      "text/plain": [
       "Text(0.5, 1.0, 'Yearly Total Profit ')"
      ]
     },
     "execution_count": 50,
     "metadata": {},
     "output_type": "execute_result"
    },
    {
     "data": {
      "image/png": "[encoded data removed]",
      "text/plain": [
       "<Figure size 720x360 with 1 Axes>"
      ]
     },
     "metadata": {
      "needs_background": "light"
     },
     "output_type": "display_data"
    }
   ],
   "source": [
    "colors = ['pink','yellow']\n",
    "ax = profit_year_trend.plot(kind='line',color = colors,  figsize=(10, 5), rot=0, xlabel='Year', ylabel='Total Profit',style='.-', marker='o')\n",
    "ax.set_title(\"Yearly Total Profit \")   "
   ]
  },
  {
   "cell_type": "markdown",
   "id": "34068f2a",
   "metadata": {},
   "source": [
    "### Genderwise Profit Analysis"
   ]
  },
  {
   "cell_type": "code",
   "execution_count": 51,
   "id": "3a0c6801",
   "metadata": {
    "ExecuteTime": {
     "end_time": "2022-10-12T23:22:56.099180Z",
     "start_time": "2022-10-12T23:22:34.535537Z"
    }
   },
   "outputs": [],
   "source": [
    "query = \"\"\"\n",
    "         SELECT * \n",
    "        FROM df_cab_data \n",
    "        JOIN df_transaction_id \n",
    "        USING(Transaction_ID)\n",
    "        JOIN df_customer_id\n",
    "        USING(Customer_ID)\n",
    "        JOIN df_city\n",
    "        USING(City)\n",
    "        \n",
    "        ;\n",
    "\n",
    "\"\"\"\n",
    "\n",
    "Master_data = sqldf(query)"
   ]
  },
  {
   "cell_type": "code",
   "execution_count": 52,
   "id": "384f532c",
   "metadata": {
    "ExecuteTime": {
     "end_time": "2022-10-12T23:22:59.219751Z",
     "start_time": "2022-10-12T23:22:59.194825Z"
    }
   },
   "outputs": [
    {
     "data": {
      "text/html": [
       "<div>\n",
       "<style scoped>\n",
       "    .dataframe tbody tr th:only-of-type {\n",
       "        vertical-align: middle;\n",
       "    }\n",
       "\n",
       "    .dataframe tbody tr th {\n",
       "        vertical-align: top;\n",
       "    }\n",
       "\n",
       "    .dataframe thead th {\n",
       "        text-align: right;\n",
       "    }\n",
       "</style>\n",
       "<table border=\"1\" class=\"dataframe\">\n",
       "  <thead>\n",
       "    <tr style=\"text-align: right;\">\n",
       "      <th></th>\n",
       "      <th>Transaction_ID</th>\n",
       "      <th>Date_of_Travel</th>\n",
       "      <th>Company</th>\n",
       "      <th>City</th>\n",
       "      <th>KM_Travelled</th>\n",
       "      <th>Price_Charged</th>\n",
       "      <th>Cost_of_Trip</th>\n",
       "      <th>year</th>\n",
       "      <th>month</th>\n",
       "      <th>day</th>\n",
       "      <th>profit</th>\n",
       "      <th>avg_profit</th>\n",
       "      <th>Customer_ID</th>\n",
       "      <th>Payment_Mode</th>\n",
       "      <th>Gender</th>\n",
       "      <th>Age</th>\n",
       "      <th>Income_(USD/Month)</th>\n",
       "      <th>Population</th>\n",
       "      <th>Users</th>\n",
       "    </tr>\n",
       "  </thead>\n",
       "  <tbody>\n",
       "    <tr>\n",
       "      <th>0</th>\n",
       "      <td>10000011</td>\n",
       "      <td>2016-01-08 00:00:00.000000</td>\n",
       "      <td>Pink Cab</td>\n",
       "      <td>ATLANTA GA</td>\n",
       "      <td>30.45</td>\n",
       "      <td>370.95</td>\n",
       "      <td>313.635</td>\n",
       "      <td>2016</td>\n",
       "      <td>1</td>\n",
       "      <td>8</td>\n",
       "      <td>57.32</td>\n",
       "      <td>1.88</td>\n",
       "      <td>29290</td>\n",
       "      <td>Card</td>\n",
       "      <td>Male</td>\n",
       "      <td>28</td>\n",
       "      <td>10813</td>\n",
       "      <td>814,885</td>\n",
       "      <td>24,701</td>\n",
       "    </tr>\n",
       "    <tr>\n",
       "      <th>1</th>\n",
       "      <td>10000012</td>\n",
       "      <td>2016-01-06 00:00:00.000000</td>\n",
       "      <td>Pink Cab</td>\n",
       "      <td>ATLANTA GA</td>\n",
       "      <td>28.62</td>\n",
       "      <td>358.52</td>\n",
       "      <td>334.854</td>\n",
       "      <td>2016</td>\n",
       "      <td>1</td>\n",
       "      <td>6</td>\n",
       "      <td>23.67</td>\n",
       "      <td>0.83</td>\n",
       "      <td>27703</td>\n",
       "      <td>Card</td>\n",
       "      <td>Male</td>\n",
       "      <td>27</td>\n",
       "      <td>9237</td>\n",
       "      <td>814,885</td>\n",
       "      <td>24,701</td>\n",
       "    </tr>\n",
       "    <tr>\n",
       "      <th>2</th>\n",
       "      <td>10000013</td>\n",
       "      <td>2016-01-02 00:00:00.000000</td>\n",
       "      <td>Pink Cab</td>\n",
       "      <td>ATLANTA GA</td>\n",
       "      <td>9.04</td>\n",
       "      <td>125.20</td>\n",
       "      <td>97.632</td>\n",
       "      <td>2016</td>\n",
       "      <td>1</td>\n",
       "      <td>2</td>\n",
       "      <td>27.57</td>\n",
       "      <td>3.05</td>\n",
       "      <td>28712</td>\n",
       "      <td>Cash</td>\n",
       "      <td>Male</td>\n",
       "      <td>53</td>\n",
       "      <td>11242</td>\n",
       "      <td>814,885</td>\n",
       "      <td>24,701</td>\n",
       "    </tr>\n",
       "    <tr>\n",
       "      <th>3</th>\n",
       "      <td>10000014</td>\n",
       "      <td>2016-01-07 00:00:00.000000</td>\n",
       "      <td>Pink Cab</td>\n",
       "      <td>ATLANTA GA</td>\n",
       "      <td>33.17</td>\n",
       "      <td>377.40</td>\n",
       "      <td>351.602</td>\n",
       "      <td>2016</td>\n",
       "      <td>1</td>\n",
       "      <td>7</td>\n",
       "      <td>25.80</td>\n",
       "      <td>0.78</td>\n",
       "      <td>28020</td>\n",
       "      <td>Cash</td>\n",
       "      <td>Male</td>\n",
       "      <td>23</td>\n",
       "      <td>23327</td>\n",
       "      <td>814,885</td>\n",
       "      <td>24,701</td>\n",
       "    </tr>\n",
       "    <tr>\n",
       "      <th>4</th>\n",
       "      <td>10000015</td>\n",
       "      <td>2016-01-03 00:00:00.000000</td>\n",
       "      <td>Pink Cab</td>\n",
       "      <td>ATLANTA GA</td>\n",
       "      <td>8.73</td>\n",
       "      <td>114.62</td>\n",
       "      <td>97.776</td>\n",
       "      <td>2016</td>\n",
       "      <td>1</td>\n",
       "      <td>3</td>\n",
       "      <td>16.84</td>\n",
       "      <td>1.93</td>\n",
       "      <td>27182</td>\n",
       "      <td>Card</td>\n",
       "      <td>Male</td>\n",
       "      <td>33</td>\n",
       "      <td>8536</td>\n",
       "      <td>814,885</td>\n",
       "      <td>24,701</td>\n",
       "    </tr>\n",
       "  </tbody>\n",
       "</table>\n",
       "</div>"
      ],
      "text/plain": [
       "   Transaction_ID              Date_of_Travel   Company        City  \\\n",
       "0        10000011  2016-01-08 00:00:00.000000  Pink Cab  ATLANTA GA   \n",
       "1        10000012  2016-01-06 00:00:00.000000  Pink Cab  ATLANTA GA   \n",
       "2        10000013  2016-01-02 00:00:00.000000  Pink Cab  ATLANTA GA   \n",
       "3        10000014  2016-01-07 00:00:00.000000  Pink Cab  ATLANTA GA   \n",
       "4        10000015  2016-01-03 00:00:00.000000  Pink Cab  ATLANTA GA   \n",
       "\n",
       "   KM_Travelled  Price_Charged  Cost_of_Trip  year  month  day  profit  \\\n",
       "0         30.45         370.95       313.635  2016      1    8   57.32   \n",
       "1         28.62         358.52       334.854  2016      1    6   23.67   \n",
       "2          9.04         125.20        97.632  2016      1    2   27.57   \n",
       "3         33.17         377.40       351.602  2016      1    7   25.80   \n",
       "4          8.73         114.62        97.776  2016      1    3   16.84   \n",
       "\n",
       "   avg_profit  Customer_ID Payment_Mode Gender  Age  Income_(USD/Month)  \\\n",
       "0        1.88        29290         Card   Male   28               10813   \n",
       "1        0.83        27703         Card   Male   27                9237   \n",
       "2        3.05        28712         Cash   Male   53               11242   \n",
       "3        0.78        28020         Cash   Male   23               23327   \n",
       "4        1.93        27182         Card   Male   33                8536   \n",
       "\n",
       "  Population     Users  \n",
       "0   814,885    24,701   \n",
       "1   814,885    24,701   \n",
       "2   814,885    24,701   \n",
       "3   814,885    24,701   \n",
       "4   814,885    24,701   "
      ]
     },
     "execution_count": 52,
     "metadata": {},
     "output_type": "execute_result"
    }
   ],
   "source": [
    "Master_data.head()"
   ]
  },
  {
   "cell_type": "code",
   "execution_count": 53,
   "id": "09f4aef6",
   "metadata": {
    "ExecuteTime": {
     "end_time": "2022-10-12T23:22:59.913570Z",
     "start_time": "2022-10-12T23:22:59.734828Z"
    }
   },
   "outputs": [],
   "source": [
    "profit_gender = pd.pivot_table(data = Master_data, index=['year'], columns= ['Company','Gender'],values = ['avg_profit'], aggfunc=np.average)"
   ]
  },
  {
   "cell_type": "code",
   "execution_count": 54,
   "id": "d8871454",
   "metadata": {
    "ExecuteTime": {
     "end_time": "2022-10-12T23:23:00.232721Z",
     "start_time": "2022-10-12T23:23:00.222747Z"
    }
   },
   "outputs": [],
   "source": [
    "profit_gender = round(profit_gender,2)"
   ]
  },
  {
   "cell_type": "code",
   "execution_count": 55,
   "id": "de648f4b",
   "metadata": {
    "ExecuteTime": {
     "end_time": "2022-10-12T23:23:00.664483Z",
     "start_time": "2022-10-12T23:23:00.650524Z"
    }
   },
   "outputs": [
    {
     "data": {
      "text/html": [
       "<div>\n",
       "<style scoped>\n",
       "    .dataframe tbody tr th:only-of-type {\n",
       "        vertical-align: middle;\n",
       "    }\n",
       "\n",
       "    .dataframe tbody tr th {\n",
       "        vertical-align: top;\n",
       "    }\n",
       "\n",
       "    .dataframe thead tr th {\n",
       "        text-align: left;\n",
       "    }\n",
       "\n",
       "    .dataframe thead tr:last-of-type th {\n",
       "        text-align: right;\n",
       "    }\n",
       "</style>\n",
       "<table border=\"1\" class=\"dataframe\">\n",
       "  <thead>\n",
       "    <tr>\n",
       "      <th></th>\n",
       "      <th colspan=\"4\" halign=\"left\">avg_profit</th>\n",
       "    </tr>\n",
       "    <tr>\n",
       "      <th>Company</th>\n",
       "      <th colspan=\"2\" halign=\"left\">Pink Cab</th>\n",
       "      <th colspan=\"2\" halign=\"left\">Yellow Cab</th>\n",
       "    </tr>\n",
       "    <tr>\n",
       "      <th>Gender</th>\n",
       "      <th>Female</th>\n",
       "      <th>Male</th>\n",
       "      <th>Female</th>\n",
       "      <th>Male</th>\n",
       "    </tr>\n",
       "    <tr>\n",
       "      <th>year</th>\n",
       "      <th></th>\n",
       "      <th></th>\n",
       "      <th></th>\n",
       "      <th></th>\n",
       "    </tr>\n",
       "  </thead>\n",
       "  <tbody>\n",
       "    <tr>\n",
       "      <th>2016</th>\n",
       "      <td>2.99</td>\n",
       "      <td>3.05</td>\n",
       "      <td>7.30</td>\n",
       "      <td>7.63</td>\n",
       "    </tr>\n",
       "    <tr>\n",
       "      <th>2017</th>\n",
       "      <td>2.94</td>\n",
       "      <td>2.98</td>\n",
       "      <td>7.34</td>\n",
       "      <td>7.61</td>\n",
       "    </tr>\n",
       "    <tr>\n",
       "      <th>2018</th>\n",
       "      <td>2.34</td>\n",
       "      <td>2.36</td>\n",
       "      <td>6.22</td>\n",
       "      <td>6.47</td>\n",
       "    </tr>\n",
       "  </tbody>\n",
       "</table>\n",
       "</div>"
      ],
      "text/plain": [
       "        avg_profit                       \n",
       "Company   Pink Cab       Yellow Cab      \n",
       "Gender      Female  Male     Female  Male\n",
       "year                                     \n",
       "2016          2.99  3.05       7.30  7.63\n",
       "2017          2.94  2.98       7.34  7.61\n",
       "2018          2.34  2.36       6.22  6.47"
      ]
     },
     "execution_count": 55,
     "metadata": {},
     "output_type": "execute_result"
    }
   ],
   "source": [
    "profit_gender.head()"
   ]
  },
  {
   "cell_type": "code",
   "execution_count": 56,
   "id": "c8102a9b",
   "metadata": {
    "ExecuteTime": {
     "end_time": "2022-10-12T23:23:01.349643Z",
     "start_time": "2022-10-12T23:23:01.123924Z"
    }
   },
   "outputs": [
    {
     "data": {
      "text/plain": [
       "Text(0.5, 1.0, 'Genderwise Average Profit ')"
      ]
     },
     "execution_count": 56,
     "metadata": {},
     "output_type": "execute_result"
    },
    {
     "data": {
      "image/png": "[encoded data removed]",
      "text/plain": [
       "<Figure size 720x576 with 1 Axes>"
      ]
     },
     "metadata": {
      "needs_background": "light"
     },
     "output_type": "display_data"
    }
   ],
   "source": [
    "colors = ['pink','deeppink','yellow','orange']\n",
    "ax = profit_gender.plot(kind='bar',color = colors, figsize=(10, 8), rot=0, xlabel='Year', ylabel='Average Profit per KM')\n",
    "for c in ax.containers:\n",
    "\n",
    "    # Optional: if the segment is small or 0, customize the labels\n",
    "    labels = [v.get_height() if v.get_height() > 0 else '' for v in c]\n",
    "    \n",
    "    # remove the labels parameter if it's not needed for customized labels\n",
    "    ax.bar_label(c, labels=labels, label_type='center')\n",
    "plt.xticks(rotation=90, ha='right')\n",
    "ax.set_title(\"Genderwise Average Profit \")   "
   ]
  },
  {
   "cell_type": "markdown",
   "id": "5cd2e64d",
   "metadata": {},
   "source": [
    "## Agewise total Profit"
   ]
  },
  {
   "cell_type": "code",
   "execution_count": 57,
   "id": "c81e7a73",
   "metadata": {
    "ExecuteTime": {
     "end_time": "2022-10-12T23:23:02.323416Z",
     "start_time": "2022-10-12T23:23:02.294459Z"
    }
   },
   "outputs": [],
   "source": [
    "binlabels = ['18-25','26-40','41-59','60+']\n",
    "Master_data['age_bin']  = pd.cut(Master_data['Age'],[18,26,41,60,150],labels = binlabels)"
   ]
  },
  {
   "cell_type": "code",
   "execution_count": 58,
   "id": "34ab0869",
   "metadata": {
    "ExecuteTime": {
     "end_time": "2022-10-12T23:23:14.396670Z",
     "start_time": "2022-10-12T23:23:14.271688Z"
    }
   },
   "outputs": [],
   "source": [
    "profit_age = pd.pivot_table(data = Master_data, index=['year'], columns= ['Company','age_bin'],values = ['avg_profit'], aggfunc=np.sum)\n",
    "profit_age = profit_age.sort_values([('avg_profit', 'Yellow Cab', '18-25')], ascending=False)"
   ]
  },
  {
   "cell_type": "code",
   "execution_count": 59,
   "id": "083077d3",
   "metadata": {
    "ExecuteTime": {
     "end_time": "2022-10-12T23:23:15.100249Z",
     "start_time": "2022-10-12T23:23:15.093266Z"
    }
   },
   "outputs": [
    {
     "data": {
      "text/plain": [
       "MultiIndex([('avg_profit',   'Pink Cab', '18-25'),\n",
       "            ('avg_profit',   'Pink Cab', '26-40'),\n",
       "            ('avg_profit',   'Pink Cab', '41-59'),\n",
       "            ('avg_profit',   'Pink Cab',   '60+'),\n",
       "            ('avg_profit', 'Yellow Cab', '18-25'),\n",
       "            ('avg_profit', 'Yellow Cab', '26-40'),\n",
       "            ('avg_profit', 'Yellow Cab', '41-59'),\n",
       "            ('avg_profit', 'Yellow Cab',   '60+')],\n",
       "           names=[None, 'Company', 'age_bin'])"
      ]
     },
     "execution_count": 59,
     "metadata": {},
     "output_type": "execute_result"
    }
   ],
   "source": [
    "profit_age.columns"
   ]
  },
  {
   "cell_type": "code",
   "execution_count": 60,
   "id": "596a25a2",
   "metadata": {
    "ExecuteTime": {
     "end_time": "2022-10-12T23:23:15.563838Z",
     "start_time": "2022-10-12T23:23:15.551881Z"
    }
   },
   "outputs": [],
   "source": [
    "profit_age = round(profit_age,2)"
   ]
  },
  {
   "cell_type": "code",
   "execution_count": 61,
   "id": "b0c346a2",
   "metadata": {
    "ExecuteTime": {
     "end_time": "2022-10-12T23:23:15.993641Z",
     "start_time": "2022-10-12T23:23:15.978681Z"
    }
   },
   "outputs": [
    {
     "data": {
      "text/html": [
       "<div>\n",
       "<style scoped>\n",
       "    .dataframe tbody tr th:only-of-type {\n",
       "        vertical-align: middle;\n",
       "    }\n",
       "\n",
       "    .dataframe tbody tr th {\n",
       "        vertical-align: top;\n",
       "    }\n",
       "\n",
       "    .dataframe thead tr th {\n",
       "        text-align: left;\n",
       "    }\n",
       "\n",
       "    .dataframe thead tr:last-of-type th {\n",
       "        text-align: right;\n",
       "    }\n",
       "</style>\n",
       "<table border=\"1\" class=\"dataframe\">\n",
       "  <thead>\n",
       "    <tr>\n",
       "      <th></th>\n",
       "      <th colspan=\"8\" halign=\"left\">avg_profit</th>\n",
       "    </tr>\n",
       "    <tr>\n",
       "      <th>Company</th>\n",
       "      <th colspan=\"4\" halign=\"left\">Pink Cab</th>\n",
       "      <th colspan=\"4\" halign=\"left\">Yellow Cab</th>\n",
       "    </tr>\n",
       "    <tr>\n",
       "      <th>age_bin</th>\n",
       "      <th>18-25</th>\n",
       "      <th>26-40</th>\n",
       "      <th>41-59</th>\n",
       "      <th>60+</th>\n",
       "      <th>18-25</th>\n",
       "      <th>26-40</th>\n",
       "      <th>41-59</th>\n",
       "      <th>60+</th>\n",
       "    </tr>\n",
       "    <tr>\n",
       "      <th>year</th>\n",
       "      <th></th>\n",
       "      <th></th>\n",
       "      <th></th>\n",
       "      <th></th>\n",
       "      <th></th>\n",
       "      <th></th>\n",
       "      <th></th>\n",
       "      <th></th>\n",
       "    </tr>\n",
       "  </thead>\n",
       "  <tbody>\n",
       "    <tr>\n",
       "      <th>2017</th>\n",
       "      <td>24412.60</td>\n",
       "      <td>39404.61</td>\n",
       "      <td>18287.21</td>\n",
       "      <td>4753.71</td>\n",
       "      <td>192471.48</td>\n",
       "      <td>331281.43</td>\n",
       "      <td>152349.95</td>\n",
       "      <td>37066.07</td>\n",
       "    </tr>\n",
       "    <tr>\n",
       "      <th>2016</th>\n",
       "      <td>19605.79</td>\n",
       "      <td>34231.18</td>\n",
       "      <td>15397.05</td>\n",
       "      <td>4237.97</td>\n",
       "      <td>160290.78</td>\n",
       "      <td>280119.99</td>\n",
       "      <td>125988.60</td>\n",
       "      <td>30747.68</td>\n",
       "    </tr>\n",
       "    <tr>\n",
       "      <th>2018</th>\n",
       "      <td>18494.55</td>\n",
       "      <td>30965.98</td>\n",
       "      <td>13866.21</td>\n",
       "      <td>3526.74</td>\n",
       "      <td>157261.85</td>\n",
       "      <td>270461.16</td>\n",
       "      <td>124730.39</td>\n",
       "      <td>29965.13</td>\n",
       "    </tr>\n",
       "  </tbody>\n",
       "</table>\n",
       "</div>"
      ],
      "text/plain": [
       "        avg_profit                                                     \\\n",
       "Company   Pink Cab                              Yellow Cab              \n",
       "age_bin      18-25     26-40     41-59      60+      18-25      26-40   \n",
       "year                                                                    \n",
       "2017      24412.60  39404.61  18287.21  4753.71  192471.48  331281.43   \n",
       "2016      19605.79  34231.18  15397.05  4237.97  160290.78  280119.99   \n",
       "2018      18494.55  30965.98  13866.21  3526.74  157261.85  270461.16   \n",
       "\n",
       "                              \n",
       "Company                       \n",
       "age_bin      41-59       60+  \n",
       "year                          \n",
       "2017     152349.95  37066.07  \n",
       "2016     125988.60  30747.68  \n",
       "2018     124730.39  29965.13  "
      ]
     },
     "execution_count": 61,
     "metadata": {},
     "output_type": "execute_result"
    }
   ],
   "source": [
    "profit_age.head()"
   ]
  },
  {
   "cell_type": "code",
   "execution_count": 62,
   "id": "ecdccbf4",
   "metadata": {
    "ExecuteTime": {
     "end_time": "2022-10-12T23:23:16.617365Z",
     "start_time": "2022-10-12T23:23:16.381063Z"
    }
   },
   "outputs": [
    {
     "data": {
      "text/plain": [
       "Text(0.5, 1.0, 'Agewise Total Profit ')"
      ]
     },
     "execution_count": 62,
     "metadata": {},
     "output_type": "execute_result"
    },
    {
     "data": {
      "image/png": "[encoded data removed]",
      "text/plain": [
       "<Figure size 720x576 with 1 Axes>"
      ]
     },
     "metadata": {
      "needs_background": "light"
     },
     "output_type": "display_data"
    }
   ],
   "source": [
    "colors = ['pink','hotpink','deeppink','violet','yellow','wheat','gold','orange']\n",
    "ax = profit_age.plot(kind='bar',color = colors, stacked = True,figsize=(10, 8), rot=0, xlabel='Year', ylabel='Total Profit ')\n",
    "\n",
    "ax.set_title(\"Agewise Total Profit \") "
   ]
  },
  {
   "cell_type": "markdown",
   "id": "210c91c6",
   "metadata": {},
   "source": [
    "### Incomewise total Profit"
   ]
  },
  {
   "cell_type": "code",
   "execution_count": 63,
   "id": "407c3137",
   "metadata": {
    "ExecuteTime": {
     "end_time": "2022-10-12T23:23:17.345853Z",
     "start_time": "2022-10-12T23:23:17.329894Z"
    }
   },
   "outputs": [],
   "source": [
    "binlabels = ['Low','Middle','High']\n",
    "Master_data['income_bin']  = pd.cut(Master_data['Income_(USD/Month)'],[0,2500,15000,35000],labels = binlabels)"
   ]
  },
  {
   "cell_type": "code",
   "execution_count": 64,
   "id": "fb538774",
   "metadata": {
    "ExecuteTime": {
     "end_time": "2022-10-12T23:23:17.856920Z",
     "start_time": "2022-10-12T23:23:17.837968Z"
    }
   },
   "outputs": [
    {
     "data": {
      "text/html": [
       "<div>\n",
       "<style scoped>\n",
       "    .dataframe tbody tr th:only-of-type {\n",
       "        vertical-align: middle;\n",
       "    }\n",
       "\n",
       "    .dataframe tbody tr th {\n",
       "        vertical-align: top;\n",
       "    }\n",
       "\n",
       "    .dataframe thead th {\n",
       "        text-align: right;\n",
       "    }\n",
       "</style>\n",
       "<table border=\"1\" class=\"dataframe\">\n",
       "  <thead>\n",
       "    <tr style=\"text-align: right;\">\n",
       "      <th></th>\n",
       "      <th>Transaction_ID</th>\n",
       "      <th>Date_of_Travel</th>\n",
       "      <th>Company</th>\n",
       "      <th>City</th>\n",
       "      <th>KM_Travelled</th>\n",
       "      <th>Price_Charged</th>\n",
       "      <th>Cost_of_Trip</th>\n",
       "      <th>year</th>\n",
       "      <th>month</th>\n",
       "      <th>day</th>\n",
       "      <th>...</th>\n",
       "      <th>avg_profit</th>\n",
       "      <th>Customer_ID</th>\n",
       "      <th>Payment_Mode</th>\n",
       "      <th>Gender</th>\n",
       "      <th>Age</th>\n",
       "      <th>Income_(USD/Month)</th>\n",
       "      <th>Population</th>\n",
       "      <th>Users</th>\n",
       "      <th>age_bin</th>\n",
       "      <th>income_bin</th>\n",
       "    </tr>\n",
       "  </thead>\n",
       "  <tbody>\n",
       "    <tr>\n",
       "      <th>0</th>\n",
       "      <td>10000011</td>\n",
       "      <td>2016-01-08 00:00:00.000000</td>\n",
       "      <td>Pink Cab</td>\n",
       "      <td>ATLANTA GA</td>\n",
       "      <td>30.45</td>\n",
       "      <td>370.95</td>\n",
       "      <td>313.635</td>\n",
       "      <td>2016</td>\n",
       "      <td>1</td>\n",
       "      <td>8</td>\n",
       "      <td>...</td>\n",
       "      <td>1.88</td>\n",
       "      <td>29290</td>\n",
       "      <td>Card</td>\n",
       "      <td>Male</td>\n",
       "      <td>28</td>\n",
       "      <td>10813</td>\n",
       "      <td>814,885</td>\n",
       "      <td>24,701</td>\n",
       "      <td>26-40</td>\n",
       "      <td>Middle</td>\n",
       "    </tr>\n",
       "    <tr>\n",
       "      <th>1</th>\n",
       "      <td>10000012</td>\n",
       "      <td>2016-01-06 00:00:00.000000</td>\n",
       "      <td>Pink Cab</td>\n",
       "      <td>ATLANTA GA</td>\n",
       "      <td>28.62</td>\n",
       "      <td>358.52</td>\n",
       "      <td>334.854</td>\n",
       "      <td>2016</td>\n",
       "      <td>1</td>\n",
       "      <td>6</td>\n",
       "      <td>...</td>\n",
       "      <td>0.83</td>\n",
       "      <td>27703</td>\n",
       "      <td>Card</td>\n",
       "      <td>Male</td>\n",
       "      <td>27</td>\n",
       "      <td>9237</td>\n",
       "      <td>814,885</td>\n",
       "      <td>24,701</td>\n",
       "      <td>26-40</td>\n",
       "      <td>Middle</td>\n",
       "    </tr>\n",
       "    <tr>\n",
       "      <th>2</th>\n",
       "      <td>10000013</td>\n",
       "      <td>2016-01-02 00:00:00.000000</td>\n",
       "      <td>Pink Cab</td>\n",
       "      <td>ATLANTA GA</td>\n",
       "      <td>9.04</td>\n",
       "      <td>125.20</td>\n",
       "      <td>97.632</td>\n",
       "      <td>2016</td>\n",
       "      <td>1</td>\n",
       "      <td>2</td>\n",
       "      <td>...</td>\n",
       "      <td>3.05</td>\n",
       "      <td>28712</td>\n",
       "      <td>Cash</td>\n",
       "      <td>Male</td>\n",
       "      <td>53</td>\n",
       "      <td>11242</td>\n",
       "      <td>814,885</td>\n",
       "      <td>24,701</td>\n",
       "      <td>41-59</td>\n",
       "      <td>Middle</td>\n",
       "    </tr>\n",
       "    <tr>\n",
       "      <th>3</th>\n",
       "      <td>10000014</td>\n",
       "      <td>2016-01-07 00:00:00.000000</td>\n",
       "      <td>Pink Cab</td>\n",
       "      <td>ATLANTA GA</td>\n",
       "      <td>33.17</td>\n",
       "      <td>377.40</td>\n",
       "      <td>351.602</td>\n",
       "      <td>2016</td>\n",
       "      <td>1</td>\n",
       "      <td>7</td>\n",
       "      <td>...</td>\n",
       "      <td>0.78</td>\n",
       "      <td>28020</td>\n",
       "      <td>Cash</td>\n",
       "      <td>Male</td>\n",
       "      <td>23</td>\n",
       "      <td>23327</td>\n",
       "      <td>814,885</td>\n",
       "      <td>24,701</td>\n",
       "      <td>18-25</td>\n",
       "      <td>High</td>\n",
       "    </tr>\n",
       "    <tr>\n",
       "      <th>4</th>\n",
       "      <td>10000015</td>\n",
       "      <td>2016-01-03 00:00:00.000000</td>\n",
       "      <td>Pink Cab</td>\n",
       "      <td>ATLANTA GA</td>\n",
       "      <td>8.73</td>\n",
       "      <td>114.62</td>\n",
       "      <td>97.776</td>\n",
       "      <td>2016</td>\n",
       "      <td>1</td>\n",
       "      <td>3</td>\n",
       "      <td>...</td>\n",
       "      <td>1.93</td>\n",
       "      <td>27182</td>\n",
       "      <td>Card</td>\n",
       "      <td>Male</td>\n",
       "      <td>33</td>\n",
       "      <td>8536</td>\n",
       "      <td>814,885</td>\n",
       "      <td>24,701</td>\n",
       "      <td>26-40</td>\n",
       "      <td>Middle</td>\n",
       "    </tr>\n",
       "  </tbody>\n",
       "</table>\n",
       "<p>5 rows × 21 columns</p>\n",
       "</div>"
      ],
      "text/plain": [
       "   Transaction_ID              Date_of_Travel   Company        City  \\\n",
       "0        10000011  2016-01-08 00:00:00.000000  Pink Cab  ATLANTA GA   \n",
       "1        10000012  2016-01-06 00:00:00.000000  Pink Cab  ATLANTA GA   \n",
       "2        10000013  2016-01-02 00:00:00.000000  Pink Cab  ATLANTA GA   \n",
       "3        10000014  2016-01-07 00:00:00.000000  Pink Cab  ATLANTA GA   \n",
       "4        10000015  2016-01-03 00:00:00.000000  Pink Cab  ATLANTA GA   \n",
       "\n",
       "   KM_Travelled  Price_Charged  Cost_of_Trip  year  month  day  ...  \\\n",
       "0         30.45         370.95       313.635  2016      1    8  ...   \n",
       "1         28.62         358.52       334.854  2016      1    6  ...   \n",
       "2          9.04         125.20        97.632  2016      1    2  ...   \n",
       "3         33.17         377.40       351.602  2016      1    7  ...   \n",
       "4          8.73         114.62        97.776  2016      1    3  ...   \n",
       "\n",
       "   avg_profit  Customer_ID  Payment_Mode Gender Age  Income_(USD/Month)  \\\n",
       "0        1.88        29290          Card   Male  28               10813   \n",
       "1        0.83        27703          Card   Male  27                9237   \n",
       "2        3.05        28712          Cash   Male  53               11242   \n",
       "3        0.78        28020          Cash   Male  23               23327   \n",
       "4        1.93        27182          Card   Male  33                8536   \n",
       "\n",
       "   Population     Users age_bin income_bin  \n",
       "0    814,885    24,701    26-40     Middle  \n",
       "1    814,885    24,701    26-40     Middle  \n",
       "2    814,885    24,701    41-59     Middle  \n",
       "3    814,885    24,701    18-25       High  \n",
       "4    814,885    24,701    26-40     Middle  \n",
       "\n",
       "[5 rows x 21 columns]"
      ]
     },
     "execution_count": 64,
     "metadata": {},
     "output_type": "execute_result"
    }
   ],
   "source": [
    "Master_data.head()"
   ]
  },
  {
   "cell_type": "code",
   "execution_count": 65,
   "id": "188e8ca5",
   "metadata": {
    "ExecuteTime": {
     "end_time": "2022-10-12T23:23:18.395940Z",
     "start_time": "2022-10-12T23:23:18.277068Z"
    }
   },
   "outputs": [],
   "source": [
    "profit_income = pd.pivot_table(data = Master_data, index=['year'], columns= ['Company','income_bin'],values = ['avg_profit'], aggfunc=np.sum)\n",
    "#profit_age = profit_age.sort_values([('avg_profit', 'Yellow Cab', 'Low')], ascending=False)"
   ]
  },
  {
   "cell_type": "code",
   "execution_count": 66,
   "id": "d1ac7fb1",
   "metadata": {
    "ExecuteTime": {
     "end_time": "2022-10-12T23:23:18.718614Z",
     "start_time": "2022-10-12T23:23:18.706591Z"
    }
   },
   "outputs": [],
   "source": [
    "profit_income = round(profit_income,2)"
   ]
  },
  {
   "cell_type": "code",
   "execution_count": 67,
   "id": "b439e82b",
   "metadata": {
    "ExecuteTime": {
     "end_time": "2022-10-12T23:23:19.117325Z",
     "start_time": "2022-10-12T23:23:19.102368Z"
    }
   },
   "outputs": [
    {
     "data": {
      "text/html": [
       "<div>\n",
       "<style scoped>\n",
       "    .dataframe tbody tr th:only-of-type {\n",
       "        vertical-align: middle;\n",
       "    }\n",
       "\n",
       "    .dataframe tbody tr th {\n",
       "        vertical-align: top;\n",
       "    }\n",
       "\n",
       "    .dataframe thead tr th {\n",
       "        text-align: left;\n",
       "    }\n",
       "\n",
       "    .dataframe thead tr:last-of-type th {\n",
       "        text-align: right;\n",
       "    }\n",
       "</style>\n",
       "<table border=\"1\" class=\"dataframe\">\n",
       "  <thead>\n",
       "    <tr>\n",
       "      <th></th>\n",
       "      <th colspan=\"6\" halign=\"left\">avg_profit</th>\n",
       "    </tr>\n",
       "    <tr>\n",
       "      <th>Company</th>\n",
       "      <th colspan=\"3\" halign=\"left\">Pink Cab</th>\n",
       "      <th colspan=\"3\" halign=\"left\">Yellow Cab</th>\n",
       "    </tr>\n",
       "    <tr>\n",
       "      <th>income_bin</th>\n",
       "      <th>Low</th>\n",
       "      <th>Middle</th>\n",
       "      <th>High</th>\n",
       "      <th>Low</th>\n",
       "      <th>Middle</th>\n",
       "      <th>High</th>\n",
       "    </tr>\n",
       "    <tr>\n",
       "      <th>year</th>\n",
       "      <th></th>\n",
       "      <th></th>\n",
       "      <th></th>\n",
       "      <th></th>\n",
       "      <th></th>\n",
       "      <th></th>\n",
       "    </tr>\n",
       "  </thead>\n",
       "  <tbody>\n",
       "    <tr>\n",
       "      <th>2016</th>\n",
       "      <td>1480.26</td>\n",
       "      <td>36346.32</td>\n",
       "      <td>38085.66</td>\n",
       "      <td>11231.44</td>\n",
       "      <td>300754.60</td>\n",
       "      <td>303970.35</td>\n",
       "    </tr>\n",
       "    <tr>\n",
       "      <th>2017</th>\n",
       "      <td>1814.20</td>\n",
       "      <td>44071.64</td>\n",
       "      <td>43951.91</td>\n",
       "      <td>14390.35</td>\n",
       "      <td>357510.24</td>\n",
       "      <td>363986.18</td>\n",
       "    </tr>\n",
       "    <tr>\n",
       "      <th>2018</th>\n",
       "      <td>1490.57</td>\n",
       "      <td>33770.36</td>\n",
       "      <td>33630.76</td>\n",
       "      <td>11491.43</td>\n",
       "      <td>291640.00</td>\n",
       "      <td>296770.97</td>\n",
       "    </tr>\n",
       "  </tbody>\n",
       "</table>\n",
       "</div>"
      ],
      "text/plain": [
       "           avg_profit                                                     \n",
       "Company      Pink Cab                     Yellow Cab                      \n",
       "income_bin        Low    Middle      High        Low     Middle       High\n",
       "year                                                                      \n",
       "2016          1480.26  36346.32  38085.66   11231.44  300754.60  303970.35\n",
       "2017          1814.20  44071.64  43951.91   14390.35  357510.24  363986.18\n",
       "2018          1490.57  33770.36  33630.76   11491.43  291640.00  296770.97"
      ]
     },
     "execution_count": 67,
     "metadata": {},
     "output_type": "execute_result"
    }
   ],
   "source": [
    "profit_income.head()"
   ]
  },
  {
   "cell_type": "code",
   "execution_count": 68,
   "id": "7fae4822",
   "metadata": {
    "ExecuteTime": {
     "end_time": "2022-10-12T23:23:19.697592Z",
     "start_time": "2022-10-12T23:23:19.488154Z"
    }
   },
   "outputs": [
    {
     "data": {
      "text/plain": [
       "Text(0.5, 1.0, 'Incomewise Total Profit ')"
      ]
     },
     "execution_count": 68,
     "metadata": {},
     "output_type": "execute_result"
    },
    {
     "data": {
      "image/png": "[encoded data removed]",
      "text/plain": [
       "<Figure size 720x576 with 1 Axes>"
      ]
     },
     "metadata": {
      "needs_background": "light"
     },
     "output_type": "display_data"
    }
   ],
   "source": [
    "colors = ['pink','hotpink','violet','yellow','wheat','orange']\n",
    "ax = profit_income.plot(kind='bar',color = colors, stacked = True,figsize=(10, 8), rot=0, xlabel='Year', ylabel='Total Profit ')\n",
    "\n",
    "ax.set_title(\"Incomewise Total Profit \") "
   ]
  },
  {
   "cell_type": "code",
   "execution_count": 69,
   "id": "1d8878bf",
   "metadata": {
    "ExecuteTime": {
     "end_time": "2022-10-12T23:23:20.053412Z",
     "start_time": "2022-10-12T23:23:19.927890Z"
    }
   },
   "outputs": [],
   "source": [
    "profit_income_month = pd.pivot_table(data = Master_data, index=['month'], columns= ['Company','income_bin'],values = ['avg_profit'], aggfunc=np.sum)"
   ]
  },
  {
   "cell_type": "code",
   "execution_count": 70,
   "id": "45d6408b",
   "metadata": {
    "ExecuteTime": {
     "end_time": "2022-10-12T23:23:20.425856Z",
     "start_time": "2022-10-12T23:23:20.416861Z"
    }
   },
   "outputs": [],
   "source": [
    "profit_income_month = round(profit_income_month,2)"
   ]
  },
  {
   "cell_type": "code",
   "execution_count": 71,
   "id": "f34e22ea",
   "metadata": {
    "ExecuteTime": {
     "end_time": "2022-10-12T23:23:21.163542Z",
     "start_time": "2022-10-12T23:23:20.860250Z"
    }
   },
   "outputs": [
    {
     "data": {
      "text/plain": [
       "Text(0.5, 1.0, 'Incomewise Total Profit ')"
      ]
     },
     "execution_count": 71,
     "metadata": {},
     "output_type": "execute_result"
    },
    {
     "data": {
      "image/png": "[encoded data removed]",
      "text/plain": [
       "<Figure size 720x576 with 1 Axes>"
      ]
     },
     "metadata": {
      "needs_background": "light"
     },
     "output_type": "display_data"
    }
   ],
   "source": [
    "colors = ['pink','hotpink','violet','yellow','wheat','orange']\n",
    "ax = profit_income_month.plot(kind='bar',color = colors, stacked = True,figsize=(10, 8), rot=0, xlabel='Months', ylabel='Total Profit ')\n",
    "\n",
    "ax.set_title(\"Incomewise Total Profit \") "
   ]
  },
  {
   "cell_type": "markdown",
   "id": "65a019c5",
   "metadata": {
    "ExecuteTime": {
     "end_time": "2022-10-12T09:49:56.836844Z",
     "start_time": "2022-10-12T09:43:05.690790Z"
    }
   },
   "source": [
    "### Customer Retention "
   ]
  },
  {
   "cell_type": "code",
   "execution_count": 72,
   "id": "376e104b",
   "metadata": {
    "ExecuteTime": {
     "end_time": "2022-10-12T23:23:34.257548Z",
     "start_time": "2022-10-12T23:23:21.701958Z"
    }
   },
   "outputs": [],
   "source": [
    "query = \"\"\"\n",
    "        SELECT Customer_ID,Company, year, COUNT(Transaction_ID) AS Rides\n",
    "        FROM Master_data\n",
    "        GROUP BY 1,2,3\n",
    "        HAVING Rides > 10\n",
    "        ORDER BY 4\n",
    "        \n",
    "        ;\n",
    "\n",
    "\"\"\"\n",
    "\n",
    "df2 = sqldf(query)"
   ]
  },
  {
   "cell_type": "code",
   "execution_count": 73,
   "id": "abd356e4",
   "metadata": {
    "ExecuteTime": {
     "end_time": "2022-10-12T23:23:38.478988Z",
     "start_time": "2022-10-12T23:23:38.470012Z"
    }
   },
   "outputs": [
    {
     "data": {
      "text/html": [
       "<div>\n",
       "<style scoped>\n",
       "    .dataframe tbody tr th:only-of-type {\n",
       "        vertical-align: middle;\n",
       "    }\n",
       "\n",
       "    .dataframe tbody tr th {\n",
       "        vertical-align: top;\n",
       "    }\n",
       "\n",
       "    .dataframe thead th {\n",
       "        text-align: right;\n",
       "    }\n",
       "</style>\n",
       "<table border=\"1\" class=\"dataframe\">\n",
       "  <thead>\n",
       "    <tr style=\"text-align: right;\">\n",
       "      <th></th>\n",
       "      <th>Customer_ID</th>\n",
       "      <th>Company</th>\n",
       "      <th>year</th>\n",
       "      <th>Rides</th>\n",
       "    </tr>\n",
       "  </thead>\n",
       "  <tbody>\n",
       "    <tr>\n",
       "      <th>3559</th>\n",
       "      <td>1198</td>\n",
       "      <td>Yellow Cab</td>\n",
       "      <td>2017</td>\n",
       "      <td>21</td>\n",
       "    </tr>\n",
       "    <tr>\n",
       "      <th>3560</th>\n",
       "      <td>1821</td>\n",
       "      <td>Yellow Cab</td>\n",
       "      <td>2018</td>\n",
       "      <td>21</td>\n",
       "    </tr>\n",
       "    <tr>\n",
       "      <th>3561</th>\n",
       "      <td>270</td>\n",
       "      <td>Yellow Cab</td>\n",
       "      <td>2018</td>\n",
       "      <td>22</td>\n",
       "    </tr>\n",
       "    <tr>\n",
       "      <th>3562</th>\n",
       "      <td>2079</td>\n",
       "      <td>Yellow Cab</td>\n",
       "      <td>2017</td>\n",
       "      <td>22</td>\n",
       "    </tr>\n",
       "    <tr>\n",
       "      <th>3563</th>\n",
       "      <td>1766</td>\n",
       "      <td>Yellow Cab</td>\n",
       "      <td>2017</td>\n",
       "      <td>25</td>\n",
       "    </tr>\n",
       "  </tbody>\n",
       "</table>\n",
       "</div>"
      ],
      "text/plain": [
       "      Customer_ID     Company  year  Rides\n",
       "3559         1198  Yellow Cab  2017     21\n",
       "3560         1821  Yellow Cab  2018     21\n",
       "3561          270  Yellow Cab  2018     22\n",
       "3562         2079  Yellow Cab  2017     22\n",
       "3563         1766  Yellow Cab  2017     25"
      ]
     },
     "execution_count": 73,
     "metadata": {},
     "output_type": "execute_result"
    }
   ],
   "source": [
    "df2.tail()"
   ]
  },
  {
   "cell_type": "code",
   "execution_count": 74,
   "id": "c5435162",
   "metadata": {
    "ExecuteTime": {
     "end_time": "2022-10-12T23:23:40.848900Z",
     "start_time": "2022-10-12T23:23:40.190168Z"
    }
   },
   "outputs": [
    {
     "data": {
      "image/png": "[encoded data removed]",
      "text/plain": [
       "<Figure size 439.875x360 with 1 Axes>"
      ]
     },
     "metadata": {
      "needs_background": "light"
     },
     "output_type": "display_data"
    }
   ],
   "source": [
    "sns.relplot(x=\"Company\", y=\"Rides\",\n",
    "            hue=\"year\", size=\"Customer_ID\", sizes=(100,500),\n",
    "            palette=\"Set1\", alpha=0.5,\n",
    "            data=df2);"
   ]
  },
  {
   "cell_type": "markdown",
   "id": "2a0aa08c",
   "metadata": {},
   "source": [
    "## Citywise Users"
   ]
  },
  {
   "cell_type": "code",
   "execution_count": 75,
   "id": "7c99f695",
   "metadata": {
    "ExecuteTime": {
     "end_time": "2022-10-12T23:23:42.958372Z",
     "start_time": "2022-10-12T23:23:42.696179Z"
    }
   },
   "outputs": [],
   "source": [
    "Master_data['Users'] = Master_data['Users'].apply(lambda x: (unidecode(x).replace(',','')))"
   ]
  },
  {
   "cell_type": "code",
   "execution_count": 76,
   "id": "70cfad9c",
   "metadata": {
    "ExecuteTime": {
     "end_time": "2022-10-12T23:23:43.358961Z",
     "start_time": "2022-10-12T23:23:43.352972Z"
    }
   },
   "outputs": [
    {
     "data": {
      "text/plain": [
       "0           24701 \n",
       "1           24701 \n",
       "2           24701 \n",
       "3           24701 \n",
       "4           24701 \n",
       "            ...   \n",
       "359387     127001 \n",
       "359388     127001 \n",
       "359389     127001 \n",
       "359390     127001 \n",
       "359391     127001 \n",
       "Name: Users, Length: 359392, dtype: object"
      ]
     },
     "execution_count": 76,
     "metadata": {},
     "output_type": "execute_result"
    }
   ],
   "source": [
    "Master_data['Users']"
   ]
  },
  {
   "cell_type": "code",
   "execution_count": 77,
   "id": "999a7f52",
   "metadata": {
    "ExecuteTime": {
     "end_time": "2022-10-12T23:23:44.199583Z",
     "start_time": "2022-10-12T23:23:43.988977Z"
    }
   },
   "outputs": [],
   "source": [
    "Master_data['Users'] = pd.to_numeric(Master_data['Users'])"
   ]
  },
  {
   "cell_type": "code",
   "execution_count": 78,
   "id": "752b2a78",
   "metadata": {
    "ExecuteTime": {
     "end_time": "2022-10-12T23:23:44.698611Z",
     "start_time": "2022-10-12T23:23:44.496480Z"
    }
   },
   "outputs": [],
   "source": [
    "city_users = pd.pivot_table(data = Master_data, index=['City'], columns= ['Company'],values = ['Users'], aggfunc=np.average)\n",
    "city_users = city_users.sort_values([('Users', 'Yellow Cab')], ascending=False)"
   ]
  },
  {
   "cell_type": "code",
   "execution_count": 79,
   "id": "c9c932a0",
   "metadata": {
    "ExecuteTime": {
     "end_time": "2022-10-12T23:23:45.182483Z",
     "start_time": "2022-10-12T23:23:45.173509Z"
    }
   },
   "outputs": [
    {
     "data": {
      "text/html": [
       "<div>\n",
       "<style scoped>\n",
       "    .dataframe tbody tr th:only-of-type {\n",
       "        vertical-align: middle;\n",
       "    }\n",
       "\n",
       "    .dataframe tbody tr th {\n",
       "        vertical-align: top;\n",
       "    }\n",
       "\n",
       "    .dataframe thead tr th {\n",
       "        text-align: left;\n",
       "    }\n",
       "\n",
       "    .dataframe thead tr:last-of-type th {\n",
       "        text-align: right;\n",
       "    }\n",
       "</style>\n",
       "<table border=\"1\" class=\"dataframe\">\n",
       "  <thead>\n",
       "    <tr>\n",
       "      <th></th>\n",
       "      <th colspan=\"2\" halign=\"left\">Users</th>\n",
       "    </tr>\n",
       "    <tr>\n",
       "      <th>Company</th>\n",
       "      <th>Pink Cab</th>\n",
       "      <th>Yellow Cab</th>\n",
       "    </tr>\n",
       "    <tr>\n",
       "      <th>City</th>\n",
       "      <th></th>\n",
       "      <th></th>\n",
       "    </tr>\n",
       "  </thead>\n",
       "  <tbody>\n",
       "    <tr>\n",
       "      <th>NEW YORK NY</th>\n",
       "      <td>302149</td>\n",
       "      <td>302149</td>\n",
       "    </tr>\n",
       "    <tr>\n",
       "      <th>CHICAGO IL</th>\n",
       "      <td>164468</td>\n",
       "      <td>164468</td>\n",
       "    </tr>\n",
       "    <tr>\n",
       "      <th>LOS ANGELES CA</th>\n",
       "      <td>144132</td>\n",
       "      <td>144132</td>\n",
       "    </tr>\n",
       "    <tr>\n",
       "      <th>WASHINGTON DC</th>\n",
       "      <td>127001</td>\n",
       "      <td>127001</td>\n",
       "    </tr>\n",
       "    <tr>\n",
       "      <th>BOSTON MA</th>\n",
       "      <td>80021</td>\n",
       "      <td>80021</td>\n",
       "    </tr>\n",
       "  </tbody>\n",
       "</table>\n",
       "</div>"
      ],
      "text/plain": [
       "                  Users           \n",
       "Company        Pink Cab Yellow Cab\n",
       "City                              \n",
       "NEW YORK NY      302149     302149\n",
       "CHICAGO IL       164468     164468\n",
       "LOS ANGELES CA   144132     144132\n",
       "WASHINGTON DC    127001     127001\n",
       "BOSTON MA         80021      80021"
      ]
     },
     "execution_count": 79,
     "metadata": {},
     "output_type": "execute_result"
    }
   ],
   "source": [
    "city_users.head()"
   ]
  },
  {
   "cell_type": "code",
   "execution_count": 80,
   "id": "394b1476",
   "metadata": {
    "ExecuteTime": {
     "end_time": "2022-10-12T23:23:46.116287Z",
     "start_time": "2022-10-12T23:23:45.857401Z"
    }
   },
   "outputs": [
    {
     "data": {
      "text/plain": [
       "Text(0.5, 1.0, 'Citywise Total Users ')"
      ]
     },
     "execution_count": 80,
     "metadata": {},
     "output_type": "execute_result"
    },
    {
     "data": {
      "image/png": "[encoded data removed]",
      "text/plain": [
       "<Figure size 720x576 with 1 Axes>"
      ]
     },
     "metadata": {
      "needs_background": "light"
     },
     "output_type": "display_data"
    }
   ],
   "source": [
    "colors = ['pink','yellow']\n",
    "ax = city_users.plot(kind='bar',color = colors, stacked = True,figsize=(10, 8), rot=0, xlabel='Company', ylabel='Total Urers ')\n",
    "\n",
    "plt.xticks(rotation=90, ha='right')\n",
    "ax.set_title(\"Citywise Total Users \") "
   ]
  },
  {
   "cell_type": "markdown",
   "id": "407d4e5c",
   "metadata": {},
   "source": [
    "### Seasonabilty "
   ]
  },
  {
   "cell_type": "code",
   "execution_count": 81,
   "id": "203edbd3",
   "metadata": {
    "ExecuteTime": {
     "end_time": "2022-10-12T23:23:59.179506Z",
     "start_time": "2022-10-12T23:23:47.367414Z"
    }
   },
   "outputs": [],
   "source": [
    "query = \"\"\"\n",
    "        SELECT day, Company, COUNT(Transaction_ID) AS daily_rides, AVG(Users) AS daily_users\n",
    "        FROM Master_data\n",
    "        GROUP BY 1, 2\n",
    "        ORDER BY 3\n",
    "        \n",
    "        ;\n",
    "\n",
    "\"\"\"\n",
    "\n",
    "daily_users = sqldf(query)"
   ]
  },
  {
   "cell_type": "code",
   "execution_count": 82,
   "id": "9ac853dc",
   "metadata": {
    "ExecuteTime": {
     "end_time": "2022-10-12T23:24:02.139948Z",
     "start_time": "2022-10-12T23:24:02.129942Z"
    }
   },
   "outputs": [
    {
     "data": {
      "text/html": [
       "<div>\n",
       "<style scoped>\n",
       "    .dataframe tbody tr th:only-of-type {\n",
       "        vertical-align: middle;\n",
       "    }\n",
       "\n",
       "    .dataframe tbody tr th {\n",
       "        vertical-align: top;\n",
       "    }\n",
       "\n",
       "    .dataframe thead th {\n",
       "        text-align: right;\n",
       "    }\n",
       "</style>\n",
       "<table border=\"1\" class=\"dataframe\">\n",
       "  <thead>\n",
       "    <tr style=\"text-align: right;\">\n",
       "      <th></th>\n",
       "      <th>day</th>\n",
       "      <th>Company</th>\n",
       "      <th>daily_rides</th>\n",
       "      <th>daily_users</th>\n",
       "    </tr>\n",
       "  </thead>\n",
       "  <tbody>\n",
       "    <tr>\n",
       "      <th>0</th>\n",
       "      <td>31</td>\n",
       "      <td>Pink Cab</td>\n",
       "      <td>1541</td>\n",
       "      <td>122445.436080</td>\n",
       "    </tr>\n",
       "    <tr>\n",
       "      <th>1</th>\n",
       "      <td>11</td>\n",
       "      <td>Pink Cab</td>\n",
       "      <td>2365</td>\n",
       "      <td>123216.461734</td>\n",
       "    </tr>\n",
       "    <tr>\n",
       "      <th>2</th>\n",
       "      <td>25</td>\n",
       "      <td>Pink Cab</td>\n",
       "      <td>2447</td>\n",
       "      <td>125931.079281</td>\n",
       "    </tr>\n",
       "    <tr>\n",
       "      <th>3</th>\n",
       "      <td>30</td>\n",
       "      <td>Pink Cab</td>\n",
       "      <td>2537</td>\n",
       "      <td>122013.447773</td>\n",
       "    </tr>\n",
       "    <tr>\n",
       "      <th>4</th>\n",
       "      <td>18</td>\n",
       "      <td>Pink Cab</td>\n",
       "      <td>2556</td>\n",
       "      <td>130157.973005</td>\n",
       "    </tr>\n",
       "  </tbody>\n",
       "</table>\n",
       "</div>"
      ],
      "text/plain": [
       "   day   Company  daily_rides    daily_users\n",
       "0   31  Pink Cab         1541  122445.436080\n",
       "1   11  Pink Cab         2365  123216.461734\n",
       "2   25  Pink Cab         2447  125931.079281\n",
       "3   30  Pink Cab         2537  122013.447773\n",
       "4   18  Pink Cab         2556  130157.973005"
      ]
     },
     "execution_count": 82,
     "metadata": {},
     "output_type": "execute_result"
    }
   ],
   "source": [
    "daily_users.head()"
   ]
  },
  {
   "cell_type": "code",
   "execution_count": 83,
   "id": "d73e96ab",
   "metadata": {
    "ExecuteTime": {
     "end_time": "2022-10-12T23:24:03.116691Z",
     "start_time": "2022-10-12T23:24:02.948107Z"
    }
   },
   "outputs": [
    {
     "data": {
      "text/plain": [
       "Text(0.5, 1.0, 'Daily Rides ')"
      ]
     },
     "execution_count": 83,
     "metadata": {},
     "output_type": "execute_result"
    },
    {
     "data": {
      "image/png": "[encoded data removed]",
      "text/plain": [
       "<Figure size 720x360 with 1 Axes>"
      ]
     },
     "metadata": {
      "needs_background": "light"
     },
     "output_type": "display_data"
    }
   ],
   "source": [
    "plt.figure(figsize=(10,5))\n",
    "colors = ['pink','yellow']\n",
    "sns.lineplot( data = daily_users,x= 'day', y = 'daily_rides', hue = 'Company', palette = colors, marker=\"o\")\n",
    "\n",
    "\n",
    "ax.set_title(\"Daily Rides \") "
   ]
  },
  {
   "cell_type": "markdown",
   "id": "ee94f511",
   "metadata": {
    "ExecuteTime": {
     "end_time": "2022-10-12T12:17:55.753219Z",
     "start_time": "2022-10-12T12:17:55.746054Z"
    }
   },
   "source": [
    "### Daily Users"
   ]
  },
  {
   "cell_type": "code",
   "execution_count": 84,
   "id": "dfdab7dc",
   "metadata": {
    "ExecuteTime": {
     "end_time": "2022-10-12T23:24:04.499753Z",
     "start_time": "2022-10-12T23:24:04.394999Z"
    }
   },
   "outputs": [],
   "source": [
    "users_daily = pd.pivot_table(data = Master_data, index=['day'], columns= ['Company'],values = ['Users'], aggfunc=np.sum)\n",
    "#users_daily = users_daily.sort_values([('Users', 'Yellow Cab')], ascending=False)"
   ]
  },
  {
   "cell_type": "code",
   "execution_count": 85,
   "id": "c1a6ac01",
   "metadata": {
    "ExecuteTime": {
     "end_time": "2022-10-12T23:24:05.110861Z",
     "start_time": "2022-10-12T23:24:05.101861Z"
    }
   },
   "outputs": [
    {
     "data": {
      "text/html": [
       "<div>\n",
       "<style scoped>\n",
       "    .dataframe tbody tr th:only-of-type {\n",
       "        vertical-align: middle;\n",
       "    }\n",
       "\n",
       "    .dataframe tbody tr th {\n",
       "        vertical-align: top;\n",
       "    }\n",
       "\n",
       "    .dataframe thead tr th {\n",
       "        text-align: left;\n",
       "    }\n",
       "\n",
       "    .dataframe thead tr:last-of-type th {\n",
       "        text-align: right;\n",
       "    }\n",
       "</style>\n",
       "<table border=\"1\" class=\"dataframe\">\n",
       "  <thead>\n",
       "    <tr>\n",
       "      <th></th>\n",
       "      <th colspan=\"2\" halign=\"left\">Users</th>\n",
       "    </tr>\n",
       "    <tr>\n",
       "      <th>Company</th>\n",
       "      <th>Pink Cab</th>\n",
       "      <th>Yellow Cab</th>\n",
       "    </tr>\n",
       "    <tr>\n",
       "      <th>day</th>\n",
       "      <th></th>\n",
       "      <th></th>\n",
       "    </tr>\n",
       "  </thead>\n",
       "  <tbody>\n",
       "    <tr>\n",
       "      <th>1</th>\n",
       "      <td>357571965</td>\n",
       "      <td>1516278781</td>\n",
       "    </tr>\n",
       "    <tr>\n",
       "      <th>2</th>\n",
       "      <td>327068580</td>\n",
       "      <td>1448447366</td>\n",
       "    </tr>\n",
       "    <tr>\n",
       "      <th>3</th>\n",
       "      <td>397829988</td>\n",
       "      <td>1731041909</td>\n",
       "    </tr>\n",
       "    <tr>\n",
       "      <th>4</th>\n",
       "      <td>313198212</td>\n",
       "      <td>1404860426</td>\n",
       "    </tr>\n",
       "    <tr>\n",
       "      <th>5</th>\n",
       "      <td>368629034</td>\n",
       "      <td>1658128295</td>\n",
       "    </tr>\n",
       "  </tbody>\n",
       "</table>\n",
       "</div>"
      ],
      "text/plain": [
       "             Users            \n",
       "Company   Pink Cab  Yellow Cab\n",
       "day                           \n",
       "1        357571965  1516278781\n",
       "2        327068580  1448447366\n",
       "3        397829988  1731041909\n",
       "4        313198212  1404860426\n",
       "5        368629034  1658128295"
      ]
     },
     "execution_count": 85,
     "metadata": {},
     "output_type": "execute_result"
    }
   ],
   "source": [
    "users_daily.head()"
   ]
  },
  {
   "cell_type": "code",
   "execution_count": 86,
   "id": "6401fe0e",
   "metadata": {
    "ExecuteTime": {
     "end_time": "2022-10-12T23:24:05.965427Z",
     "start_time": "2022-10-12T23:24:05.669176Z"
    }
   },
   "outputs": [
    {
     "data": {
      "image/png": "[encoded data removed]",
      "text/plain": [
       "<Figure size 720x576 with 1 Axes>"
      ]
     },
     "metadata": {
      "needs_background": "light"
     },
     "output_type": "display_data"
    }
   ],
   "source": [
    "colors = ['pink','yellow']\n",
    "ax = users_daily.plot(kind='bar',color = colors, stacked = True,figsize=(10, 8), rot=0, xlabel='Days', ylabel='Total Urers ')\n",
    "#ax.set_title(\"Total Daily Users \") "
   ]
  },
  {
   "cell_type": "markdown",
   "id": "618fc445",
   "metadata": {
    "ExecuteTime": {
     "end_time": "2022-10-12T13:11:57.279965Z",
     "start_time": "2022-10-12T13:11:57.274181Z"
    }
   },
   "source": [
    "### Distance in KM Travelled"
   ]
  },
  {
   "cell_type": "code",
   "execution_count": 87,
   "id": "2745098b",
   "metadata": {
    "ExecuteTime": {
     "end_time": "2022-10-12T23:24:06.992008Z",
     "start_time": "2022-10-12T23:24:06.976029Z"
    }
   },
   "outputs": [],
   "source": [
    "binlabels = ['Short',\"Middle\",'Long']\n",
    "Master_data['distance_bin']  = pd.cut(Master_data['KM_Travelled'],[0,5,30,50],labels = binlabels)"
   ]
  },
  {
   "cell_type": "code",
   "execution_count": 88,
   "id": "2bcb8256",
   "metadata": {
    "ExecuteTime": {
     "end_time": "2022-10-12T23:24:07.576111Z",
     "start_time": "2022-10-12T23:24:07.470463Z"
    }
   },
   "outputs": [],
   "source": [
    "users_distance = pd.pivot_table(data = Master_data, index=['distance_bin'], columns= ['Company'],values = ['Users'], aggfunc=np.sum)\n",
    "users_distance = users_distance.sort_values([('Users', 'Yellow Cab')], ascending=False)"
   ]
  },
  {
   "cell_type": "code",
   "execution_count": 89,
   "id": "b6a5ad0b",
   "metadata": {
    "ExecuteTime": {
     "end_time": "2022-10-12T23:24:07.976494Z",
     "start_time": "2022-10-12T23:24:07.963530Z"
    }
   },
   "outputs": [
    {
     "data": {
      "text/html": [
       "<div>\n",
       "<style scoped>\n",
       "    .dataframe tbody tr th:only-of-type {\n",
       "        vertical-align: middle;\n",
       "    }\n",
       "\n",
       "    .dataframe tbody tr th {\n",
       "        vertical-align: top;\n",
       "    }\n",
       "\n",
       "    .dataframe thead tr th {\n",
       "        text-align: left;\n",
       "    }\n",
       "\n",
       "    .dataframe thead tr:last-of-type th {\n",
       "        text-align: right;\n",
       "    }\n",
       "</style>\n",
       "<table border=\"1\" class=\"dataframe\">\n",
       "  <thead>\n",
       "    <tr>\n",
       "      <th></th>\n",
       "      <th colspan=\"2\" halign=\"left\">Users</th>\n",
       "    </tr>\n",
       "    <tr>\n",
       "      <th>Company</th>\n",
       "      <th>Pink Cab</th>\n",
       "      <th>Yellow Cab</th>\n",
       "    </tr>\n",
       "    <tr>\n",
       "      <th>distance_bin</th>\n",
       "      <th></th>\n",
       "      <th></th>\n",
       "    </tr>\n",
       "  </thead>\n",
       "  <tbody>\n",
       "    <tr>\n",
       "      <th>Middle</th>\n",
       "      <td>6371882544</td>\n",
       "      <td>27793724687</td>\n",
       "    </tr>\n",
       "    <tr>\n",
       "      <th>Long</th>\n",
       "      <td>3396848362</td>\n",
       "      <td>14645321532</td>\n",
       "    </tr>\n",
       "    <tr>\n",
       "      <th>Short</th>\n",
       "      <td>870192482</td>\n",
       "      <td>3837353735</td>\n",
       "    </tr>\n",
       "  </tbody>\n",
       "</table>\n",
       "</div>"
      ],
      "text/plain": [
       "                   Users             \n",
       "Company         Pink Cab   Yellow Cab\n",
       "distance_bin                         \n",
       "Middle        6371882544  27793724687\n",
       "Long          3396848362  14645321532\n",
       "Short          870192482   3837353735"
      ]
     },
     "execution_count": 89,
     "metadata": {},
     "output_type": "execute_result"
    }
   ],
   "source": [
    "users_distance.head()"
   ]
  },
  {
   "cell_type": "code",
   "execution_count": 90,
   "id": "107d3e86",
   "metadata": {
    "ExecuteTime": {
     "end_time": "2022-10-12T23:24:08.710734Z",
     "start_time": "2022-10-12T23:24:08.521241Z"
    }
   },
   "outputs": [
    {
     "data": {
      "text/plain": [
       "Text(0.5, 1.0, 'Distancewise user distribution ')"
      ]
     },
     "execution_count": 90,
     "metadata": {},
     "output_type": "execute_result"
    },
    {
     "data": {
      "image/png": "[encoded data removed]",
      "text/plain": [
       "<Figure size 720x576 with 1 Axes>"
      ]
     },
     "metadata": {
      "needs_background": "light"
     },
     "output_type": "display_data"
    }
   ],
   "source": [
    "colors = ['pink','yellow']\n",
    "ax = users_distance.plot(kind='bar',color = colors, stacked = True,figsize=(10, 8), rot=0, xlabel='Distance travelled range', ylabel='Total Urers ')\n",
    "\n",
    "ax.set_title(\"Distancewise user distribution \") "
   ]
  },
  {
   "cell_type": "markdown",
   "id": "642f4e7f",
   "metadata": {},
   "source": [
    "## Hypothesis Testing"
   ]
  },
  {
   "cell_type": "markdown",
   "id": "a1ddc59a",
   "metadata": {},
   "source": [
    "### Hypothesis : Is there profit remains same for gender for yellow & pink cab?"
   ]
  },
  {
   "cell_type": "markdown",
   "id": "2ef9f272",
   "metadata": {},
   "source": [
    "#### Null Hypothesis:Profit for Gender remains same for Yellow Cab & Pink Cab"
   ]
  },
  {
   "cell_type": "markdown",
   "id": "da234281",
   "metadata": {},
   "source": [
    "<b>for yellow cab</b>"
   ]
  },
  {
   "cell_type": "code",
   "execution_count": 93,
   "id": "8e09567c",
   "metadata": {
    "ExecuteTime": {
     "end_time": "2022-10-12T23:25:17.927652Z",
     "start_time": "2022-10-12T23:25:17.651099Z"
    }
   },
   "outputs": [
    {
     "name": "stdout",
     "output_type": "stream",
     "text": [
      "116000 158681\n",
      "We accept alternate hypothesis that there is a statistical difference\n",
      "P value is  6.061440146232034e-25\n"
     ]
    }
   ],
   "source": [
    "female = Master_data[(Master_data['Gender']=='Female')&(Master_data['Company']=='Yellow Cab')].groupby('Transaction_ID')['profit'].mean()\n",
    "male = Master_data[(Master_data['Gender']=='Male')&(Master_data['Company']=='Yellow Cab')].groupby('Transaction_ID')['profit'].mean()\n",
    "print(female.shape[0],male.shape[0])\n",
    "\n",
    "from scipy import stats\n",
    "_, p_value = stats.ttest_ind(female.values,male.values,equal_var=True)\n",
    "if(p_value<0.05):\n",
    "    print('We accept alternate hypothesis that there is a statistical difference')\n",
    "else:\n",
    "    print('We accept null hypothesis that there is no statistical difference')\n",
    "    \n",
    "print('P value is ', p_value)"
   ]
  },
  {
   "cell_type": "markdown",
   "id": "331ddb23",
   "metadata": {},
   "source": [
    "  <b>Yellow Cab:</b> There is difference in Profit between Male and Female customers"
   ]
  },
  {
   "cell_type": "markdown",
   "id": "39902483",
   "metadata": {
    "ExecuteTime": {
     "end_time": "2022-10-12T23:29:34.372571Z",
     "start_time": "2022-10-12T23:29:34.364007Z"
    }
   },
   "source": [
    "<b>for Pink cab</b>"
   ]
  },
  {
   "cell_type": "code",
   "execution_count": 95,
   "id": "0b4b6f8d",
   "metadata": {
    "ExecuteTime": {
     "end_time": "2022-10-12T23:29:59.575049Z",
     "start_time": "2022-10-12T23:29:59.398497Z"
    }
   },
   "outputs": [
    {
     "name": "stdout",
     "output_type": "stream",
     "text": [
      "37480 47231\n",
      "We accept null hypothesis that there is no statistical difference\n",
      "P value is  0.11516186231099297\n"
     ]
    }
   ],
   "source": [
    "female = Master_data[(Master_data['Gender']=='Female')&(Master_data['Company']=='Pink Cab')].groupby('Transaction_ID')['profit'].mean()\n",
    "male = Master_data[(Master_data['Gender']=='Male')&(Master_data['Company']=='Pink Cab')].groupby('Transaction_ID')['profit'].mean()\n",
    "print(female.shape[0],male.shape[0])\n",
    "\n",
    "from scipy import stats\n",
    "_, p_value = stats.ttest_ind(female.values,male.values,equal_var=True)\n",
    "if(p_value<0.05):\n",
    "    print('We accept alternate hypothesis that there is a statistical difference')\n",
    "else:\n",
    "    print('We accept null hypothesis that there is no statistical difference')\n",
    "    \n",
    "print('P value is ', p_value)"
   ]
  },
  {
   "cell_type": "markdown",
   "id": "26a10f0a",
   "metadata": {},
   "source": [
    "<b>Pink Cab:</b> There is no difference in profit between Male and Female customers"
   ]
  },
  {
   "cell_type": "markdown",
   "id": "4f657cca",
   "metadata": {},
   "source": [
    "### Hypothesis : Is there difference in profit for Card payers and Cash payers?"
   ]
  },
  {
   "cell_type": "markdown",
   "id": "040d4ba1",
   "metadata": {
    "ExecuteTime": {
     "end_time": "2022-10-12T23:37:35.878085Z",
     "start_time": "2022-10-12T23:37:35.872988Z"
    }
   },
   "source": [
    "#### Null Hypothesis : Profit remains same for card and cash payers"
   ]
  },
  {
   "cell_type": "code",
   "execution_count": 98,
   "id": "0d4b99cf",
   "metadata": {
    "ExecuteTime": {
     "end_time": "2022-10-12T23:41:48.526196Z",
     "start_time": "2022-10-12T23:41:48.359133Z"
    }
   },
   "outputs": [
    {
     "name": "stdout",
     "output_type": "stream",
     "text": [
      "37480 47231\n",
      "We accept null hypothesis that there is no statistical difference\n",
      "P value is  0.7900091959151682\n"
     ]
    }
   ],
   "source": [
    "# Pink cab\n",
    "cash = Master_data[(Master_data['Payment_Mode']=='Cash')&(Master_data['Company']=='Pink Cab')].groupby('Transaction_ID')['profit'].mean()\n",
    "card = Master_data[(Master_data['Payment_Mode']=='Card')&(Master_data['Company']=='Pink Cab')].groupby('Transaction_ID')['profit'].mean()\n",
    "print(female.shape[0],male.shape[0])\n",
    "\n",
    "from scipy import stats\n",
    "_, p_value = stats.ttest_ind(cash.values,card.values,equal_var=True)\n",
    "if(p_value<0.05):\n",
    "    print('We accept alternate hypothesis that there is a statistical difference')\n",
    "else:\n",
    "    print('We accept null hypothesis that there is no statistical difference')\n",
    "    \n",
    "print('P value is ', p_value)"
   ]
  },
  {
   "cell_type": "markdown",
   "id": "450ae99c",
   "metadata": {
    "ExecuteTime": {
     "end_time": "2022-10-12T23:49:43.259803Z",
     "start_time": "2022-10-12T23:49:43.255307Z"
    }
   },
   "source": [
    "#### Pink Cab: There is no difference in profit for cash and card users"
   ]
  },
  {
   "cell_type": "code",
   "execution_count": 99,
   "id": "c1ccc55c",
   "metadata": {
    "ExecuteTime": {
     "end_time": "2022-10-12T23:41:56.228280Z",
     "start_time": "2022-10-12T23:41:55.948008Z"
    }
   },
   "outputs": [
    {
     "name": "stdout",
     "output_type": "stream",
     "text": [
      "37480 47231\n",
      "We accept null hypothesis that there is no statistical difference\n",
      "P value is  0.2933058137696317\n"
     ]
    }
   ],
   "source": [
    "# Yelllow cab\n",
    "cash = Master_data[(Master_data['Payment_Mode']=='Cash')&(Master_data['Company']=='Yellow Cab')].groupby('Transaction_ID')['profit'].mean()\n",
    "card = Master_data[(Master_data['Payment_Mode']=='Card')&(Master_data['Company']=='Yellow Cab')].groupby('Transaction_ID')['profit'].mean()\n",
    "print(female.shape[0],male.shape[0])\n",
    "\n",
    "from scipy import stats\n",
    "_, p_value = stats.ttest_ind(cash.values,card.values,equal_var=True)\n",
    "if(p_value<0.05):\n",
    "    print('We accept alternate hypothesis that there is a statistical difference')\n",
    "else:\n",
    "    print('We accept null hypothesis that there is no statistical difference')\n",
    "    \n",
    "print('P value is ', p_value)"
   ]
  },
  {
   "cell_type": "markdown",
   "id": "c842277a",
   "metadata": {},
   "source": [
    "#### Yellow Cab: There is no difference in profit for cash and card users"
   ]
  },
  {
   "cell_type": "code",
   "execution_count": null,
   "id": "540f920d",
   "metadata": {},
   "outputs": [],
   "source": []
  }
 ],
 "metadata": {
  "kernelspec": {
   "display_name": "Python 3 (ipykernel)",
   "language": "python",
   "name": "python3"
  },
  "language_info": {
   "codemirror_mode": {
    "name": "ipython",
    "version": 3
   },
   "file_extension": ".py",
   "mimetype": "text/x-python",
   "name": "python",
   "nbconvert_exporter": "python",
   "pygments_lexer": "ipython3",
   "version": "3.9.7"
  },
  "varInspector": {
   "cols": {
    "lenName": 16,
    "lenType": 16,
    "lenVar": 40
   },
   "kernels_config": {
    "python": {
     "delete_cmd_postfix": "",
     "delete_cmd_prefix": "del ",
     "library": "var_list.py",
     "varRefreshCmd": "print(var_dic_list())"
    },
    "r": {
     "delete_cmd_postfix": ") ",
     "delete_cmd_prefix": "rm(",
     "library": "var_list.r",
     "varRefreshCmd": "cat(var_dic_list()) "
    }
   },
   "types_to_exclude": [
    "module",
    "function",
    "builtin_function_or_method",
    "instance",
    "_Feature"
   ],
   "window_display": false
  }
 },
 "nbformat": 4,
 "nbformat_minor": 5
}
