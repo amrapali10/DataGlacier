{
 "cells": [
  {
   "cell_type": "markdown",
   "id": "0fed26ce",
   "metadata": {},
   "source": [
    "# Twitter Hate Speech Detection"
   ]
  },
  {
   "cell_type": "markdown",
   "id": "c828c28d",
   "metadata": {},
   "source": [
    "### Problem Statement:\n",
    "The term hate speech is understood as any type of verbal, written or behavioural communication that attacks or uses derogatory or discriminatory language against a person or group based on what they are, in other words, based on their religion, ethnicity, nationality, race, colour, ancestry, sex or another identity factor. In this problem, we will take you through a hate speech detection model with Machine Learning and Python.</br>\n",
    "\n",
    "Hate Speech Detection is generally a task of sentiment classification. So, for training, a model that can classify hate speech from a certain piece of text can be achieved by training it on a data that is generally used to classify sentiments. So, for the task of hate speech detection model, we will use the Twitter tweets to identify tweets containing Hate speech.</br>\n",
    "\n",
    "Our goal is to classify tweets into two categories, hate speech or non-hate speech. Our project analyzed a dataset CSV file from Kaggle containing 31,962 tweets. \n"
   ]
  },
  {
   "cell_type": "markdown",
   "id": "e8699aff",
   "metadata": {},
   "source": [
    "## Import Libraries"
   ]
  },
  {
   "cell_type": "code",
   "execution_count": 1,
   "id": "9d4c852a",
   "metadata": {
    "ExecuteTime": {
     "end_time": "2022-11-24T18:01:28.599867Z",
     "start_time": "2022-11-24T18:01:23.090011Z"
    }
   },
   "outputs": [
    {
     "name": "stderr",
     "output_type": "stream",
     "text": [
      "C:\\Users\\AMRAPALI\\anaconda3\\lib\\site-packages\\scipy\\__init__.py:146: UserWarning: A NumPy version >=1.16.5 and <1.23.0 is required for this version of SciPy (detected version 1.23.4\n",
      "  warnings.warn(f\"A NumPy version >={np_minversion} and <{np_maxversion}\"\n"
     ]
    }
   ],
   "source": [
    "import numpy as np\n",
    "import pandas as pd\n",
    "import seaborn as sns\n",
    "import matplotlib.pyplot as plt\n",
    "import re\n",
    "import nltk\n",
    "import string\n",
    "from nltk.text import Text"
   ]
  },
  {
   "cell_type": "markdown",
   "id": "e08b9fbc",
   "metadata": {},
   "source": [
    "## Import Data"
   ]
  },
  {
   "cell_type": "code",
   "execution_count": 2,
   "id": "99ecf609",
   "metadata": {
    "ExecuteTime": {
     "end_time": "2022-11-24T18:01:35.378798Z",
     "start_time": "2022-11-24T18:01:35.198312Z"
    }
   },
   "outputs": [
    {
     "data": {
      "text/html": [
       "<div>\n",
       "<style scoped>\n",
       "    .dataframe tbody tr th:only-of-type {\n",
       "        vertical-align: middle;\n",
       "    }\n",
       "\n",
       "    .dataframe tbody tr th {\n",
       "        vertical-align: top;\n",
       "    }\n",
       "\n",
       "    .dataframe thead th {\n",
       "        text-align: right;\n",
       "    }\n",
       "</style>\n",
       "<table border=\"1\" class=\"dataframe\">\n",
       "  <thead>\n",
       "    <tr style=\"text-align: right;\">\n",
       "      <th></th>\n",
       "      <th>id</th>\n",
       "      <th>label</th>\n",
       "      <th>tweet</th>\n",
       "    </tr>\n",
       "  </thead>\n",
       "  <tbody>\n",
       "    <tr>\n",
       "      <th>0</th>\n",
       "      <td>1</td>\n",
       "      <td>0</td>\n",
       "      <td>@user when a father is dysfunctional and is s...</td>\n",
       "    </tr>\n",
       "    <tr>\n",
       "      <th>1</th>\n",
       "      <td>2</td>\n",
       "      <td>0</td>\n",
       "      <td>@user @user thanks for #lyft credit i can't us...</td>\n",
       "    </tr>\n",
       "    <tr>\n",
       "      <th>2</th>\n",
       "      <td>3</td>\n",
       "      <td>0</td>\n",
       "      <td>bihday your majesty</td>\n",
       "    </tr>\n",
       "    <tr>\n",
       "      <th>3</th>\n",
       "      <td>4</td>\n",
       "      <td>0</td>\n",
       "      <td>#model   i love u take with u all the time in ...</td>\n",
       "    </tr>\n",
       "    <tr>\n",
       "      <th>4</th>\n",
       "      <td>5</td>\n",
       "      <td>0</td>\n",
       "      <td>factsguide: society now    #motivation</td>\n",
       "    </tr>\n",
       "  </tbody>\n",
       "</table>\n",
       "</div>"
      ],
      "text/plain": [
       "   id  label                                              tweet\n",
       "0   1      0   @user when a father is dysfunctional and is s...\n",
       "1   2      0  @user @user thanks for #lyft credit i can't us...\n",
       "2   3      0                                bihday your majesty\n",
       "3   4      0  #model   i love u take with u all the time in ...\n",
       "4   5      0             factsguide: society now    #motivation"
      ]
     },
     "execution_count": 2,
     "metadata": {},
     "output_type": "execute_result"
    }
   ],
   "source": [
    "df = pd.read_csv('dataset/twitter_hate_speech.csv')\n",
    "df.head()"
   ]
  },
  {
   "cell_type": "markdown",
   "id": "12868c8b",
   "metadata": {},
   "source": [
    "## Data Information"
   ]
  },
  {
   "cell_type": "markdown",
   "id": "6adee698",
   "metadata": {},
   "source": [
    "### Number of observations and features in the dataset"
   ]
  },
  {
   "cell_type": "code",
   "execution_count": 3,
   "id": "7afe7168",
   "metadata": {
    "ExecuteTime": {
     "end_time": "2022-11-24T18:13:15.165015Z",
     "start_time": "2022-11-24T18:13:15.159017Z"
    }
   },
   "outputs": [
    {
     "name": "stdout",
     "output_type": "stream",
     "text": [
      "Number of observations:  31962\n",
      "Number of features:  3\n"
     ]
    }
   ],
   "source": [
    "print(\"Number of observations: \", df.shape[0])\n",
    "print(\"Number of features: \", df.shape[1])"
   ]
  },
  {
   "cell_type": "markdown",
   "id": "12165b0f",
   "metadata": {},
   "source": [
    "### Features in the dataset"
   ]
  },
  {
   "cell_type": "code",
   "execution_count": 4,
   "id": "d54f70e0",
   "metadata": {
    "ExecuteTime": {
     "end_time": "2022-11-24T18:14:36.744943Z",
     "start_time": "2022-11-24T18:14:36.736959Z"
    }
   },
   "outputs": [
    {
     "data": {
      "text/plain": [
       "Index(['id', 'label', 'tweet'], dtype='object')"
      ]
     },
     "execution_count": 4,
     "metadata": {},
     "output_type": "execute_result"
    }
   ],
   "source": [
    "df.columns"
   ]
  },
  {
   "cell_type": "markdown",
   "id": "3c039596",
   "metadata": {},
   "source": [
    "### Data type"
   ]
  },
  {
   "cell_type": "code",
   "execution_count": 5,
   "id": "faeafd5e",
   "metadata": {
    "ExecuteTime": {
     "end_time": "2022-11-24T18:15:42.436067Z",
     "start_time": "2022-11-24T18:15:42.424459Z"
    }
   },
   "outputs": [
    {
     "data": {
      "text/plain": [
       "id        int64\n",
       "label     int64\n",
       "tweet    object\n",
       "dtype: object"
      ]
     },
     "execution_count": 5,
     "metadata": {},
     "output_type": "execute_result"
    }
   ],
   "source": [
    "df.dtypes"
   ]
  },
  {
   "cell_type": "markdown",
   "id": "1023ed4d",
   "metadata": {},
   "source": [
    "### Data Info"
   ]
  },
  {
   "cell_type": "code",
   "execution_count": 7,
   "id": "578b168e",
   "metadata": {
    "ExecuteTime": {
     "end_time": "2022-11-24T18:16:37.611699Z",
     "start_time": "2022-11-24T18:16:37.505730Z"
    }
   },
   "outputs": [
    {
     "name": "stdout",
     "output_type": "stream",
     "text": [
      "<class 'pandas.core.frame.DataFrame'>\n",
      "RangeIndex: 31962 entries, 0 to 31961\n",
      "Data columns (total 3 columns):\n",
      " #   Column  Non-Null Count  Dtype \n",
      "---  ------  --------------  ----- \n",
      " 0   id      31962 non-null  int64 \n",
      " 1   label   31962 non-null  int64 \n",
      " 2   tweet   31962 non-null  object\n",
      "dtypes: int64(2), object(1)\n",
      "memory usage: 749.2+ KB\n"
     ]
    }
   ],
   "source": [
    "df.info()"
   ]
  },
  {
   "cell_type": "markdown",
   "id": "9d826c2c",
   "metadata": {},
   "source": [
    "### Data size"
   ]
  },
  {
   "cell_type": "code",
   "execution_count": 8,
   "id": "11483f49",
   "metadata": {
    "ExecuteTime": {
     "end_time": "2022-11-24T18:17:14.347811Z",
     "start_time": "2022-11-24T18:17:14.339849Z"
    }
   },
   "outputs": [
    {
     "data": {
      "text/plain": [
       "95886"
      ]
     },
     "execution_count": 8,
     "metadata": {},
     "output_type": "execute_result"
    }
   ],
   "source": [
    "df.size"
   ]
  },
  {
   "cell_type": "markdown",
   "id": "4c4cd369",
   "metadata": {},
   "source": [
    "### Predictors and Target Attributes"
   ]
  },
  {
   "cell_type": "code",
   "execution_count": 9,
   "id": "5c70bbea",
   "metadata": {
    "ExecuteTime": {
     "end_time": "2022-11-24T18:27:05.646064Z",
     "start_time": "2022-11-24T18:27:05.577920Z"
    }
   },
   "outputs": [
    {
     "data": {
      "text/html": [
       "<div>\n",
       "<style scoped>\n",
       "    .dataframe tbody tr th:only-of-type {\n",
       "        vertical-align: middle;\n",
       "    }\n",
       "\n",
       "    .dataframe tbody tr th {\n",
       "        vertical-align: top;\n",
       "    }\n",
       "\n",
       "    .dataframe thead th {\n",
       "        text-align: right;\n",
       "    }\n",
       "</style>\n",
       "<table border=\"1\" class=\"dataframe\">\n",
       "  <thead>\n",
       "    <tr style=\"text-align: right;\">\n",
       "      <th></th>\n",
       "      <th>label</th>\n",
       "      <th>tweet</th>\n",
       "    </tr>\n",
       "  </thead>\n",
       "  <tbody>\n",
       "    <tr>\n",
       "      <th>0</th>\n",
       "      <td>0</td>\n",
       "      <td>@user when a father is dysfunctional and is s...</td>\n",
       "    </tr>\n",
       "    <tr>\n",
       "      <th>1</th>\n",
       "      <td>0</td>\n",
       "      <td>@user @user thanks for #lyft credit i can't us...</td>\n",
       "    </tr>\n",
       "    <tr>\n",
       "      <th>2</th>\n",
       "      <td>0</td>\n",
       "      <td>bihday your majesty</td>\n",
       "    </tr>\n",
       "    <tr>\n",
       "      <th>3</th>\n",
       "      <td>0</td>\n",
       "      <td>#model   i love u take with u all the time in ...</td>\n",
       "    </tr>\n",
       "    <tr>\n",
       "      <th>4</th>\n",
       "      <td>0</td>\n",
       "      <td>factsguide: society now    #motivation</td>\n",
       "    </tr>\n",
       "  </tbody>\n",
       "</table>\n",
       "</div>"
      ],
      "text/plain": [
       "   label                                              tweet\n",
       "0      0   @user when a father is dysfunctional and is s...\n",
       "1      0  @user @user thanks for #lyft credit i can't us...\n",
       "2      0                                bihday your majesty\n",
       "3      0  #model   i love u take with u all the time in ...\n",
       "4      0             factsguide: society now    #motivation"
      ]
     },
     "execution_count": 9,
     "metadata": {},
     "output_type": "execute_result"
    }
   ],
   "source": [
    "# Predictors attributes\n",
    "text = df.iloc[:, 1:]\n",
    "text.head()"
   ]
  },
  {
   "cell_type": "code",
   "execution_count": 12,
   "id": "afc73e58",
   "metadata": {
    "ExecuteTime": {
     "end_time": "2022-11-24T18:29:01.009181Z",
     "start_time": "2022-11-24T18:29:00.994260Z"
    }
   },
   "outputs": [
    {
     "data": {
      "text/html": [
       "<div>\n",
       "<style scoped>\n",
       "    .dataframe tbody tr th:only-of-type {\n",
       "        vertical-align: middle;\n",
       "    }\n",
       "\n",
       "    .dataframe tbody tr th {\n",
       "        vertical-align: top;\n",
       "    }\n",
       "\n",
       "    .dataframe thead th {\n",
       "        text-align: right;\n",
       "    }\n",
       "</style>\n",
       "<table border=\"1\" class=\"dataframe\">\n",
       "  <thead>\n",
       "    <tr style=\"text-align: right;\">\n",
       "      <th></th>\n",
       "      <th>id</th>\n",
       "    </tr>\n",
       "  </thead>\n",
       "  <tbody>\n",
       "    <tr>\n",
       "      <th>0</th>\n",
       "      <td>1</td>\n",
       "    </tr>\n",
       "    <tr>\n",
       "      <th>1</th>\n",
       "      <td>2</td>\n",
       "    </tr>\n",
       "    <tr>\n",
       "      <th>2</th>\n",
       "      <td>3</td>\n",
       "    </tr>\n",
       "    <tr>\n",
       "      <th>3</th>\n",
       "      <td>4</td>\n",
       "    </tr>\n",
       "    <tr>\n",
       "      <th>4</th>\n",
       "      <td>5</td>\n",
       "    </tr>\n",
       "  </tbody>\n",
       "</table>\n",
       "</div>"
      ],
      "text/plain": [
       "   id\n",
       "0   1\n",
       "1   2\n",
       "2   3\n",
       "3   4\n",
       "4   5"
      ]
     },
     "execution_count": 12,
     "metadata": {},
     "output_type": "execute_result"
    }
   ],
   "source": [
    "# Target attributes\n",
    "label = df.iloc[:, 0:1]\n",
    "label.head()"
   ]
  },
  {
   "cell_type": "markdown",
   "id": "2fa10f53",
   "metadata": {},
   "source": [
    "### Checking missing values"
   ]
  },
  {
   "cell_type": "code",
   "execution_count": 13,
   "id": "de986b1c",
   "metadata": {
    "ExecuteTime": {
     "end_time": "2022-11-24T18:30:59.968866Z",
     "start_time": "2022-11-24T18:30:59.947833Z"
    }
   },
   "outputs": [
    {
     "data": {
      "text/plain": [
       "id       0\n",
       "label    0\n",
       "tweet    0\n",
       "dtype: int64"
      ]
     },
     "execution_count": 13,
     "metadata": {},
     "output_type": "execute_result"
    }
   ],
   "source": [
    "df.isnull().sum()"
   ]
  },
  {
   "cell_type": "markdown",
   "id": "f8d9fb4d",
   "metadata": {},
   "source": [
    "### Visualize the distribution of target attribute for each class"
   ]
  },
  {
   "cell_type": "code",
   "execution_count": 14,
   "id": "8067d205",
   "metadata": {
    "ExecuteTime": {
     "end_time": "2022-11-24T18:57:24.769346Z",
     "start_time": "2022-11-24T18:57:24.709392Z"
    }
   },
   "outputs": [
    {
     "name": "stdout",
     "output_type": "stream",
     "text": [
      "Hate speech:  2242\n",
      "Free Speech:  29720\n"
     ]
    }
   ],
   "source": [
    "# Label feature for each class\n",
    "hate_speech = df[df['label'] == 1].shape[0]\n",
    "free_speech = df[df['label'] == 0].shape[0]\n",
    "print('Hate speech: ',hate_speech)\n",
    "print('Free Speech: ',free_speech)"
   ]
  },
  {
   "cell_type": "code",
   "execution_count": 18,
   "id": "7e91c3a7",
   "metadata": {
    "ExecuteTime": {
     "end_time": "2022-11-24T20:46:48.089758Z",
     "start_time": "2022-11-24T20:46:48.006864Z"
    }
   },
   "outputs": [
    {
     "data": {
      "image/png": "[encoded data removed]",
      "text/plain": [
       "<Figure size 432x288 with 1 Axes>"
      ]
     },
     "metadata": {},
     "output_type": "display_data"
    }
   ],
   "source": [
    "# Visualize Label class\n",
    "speech = [hate_speech, free_speech]\n",
    "label = [\"Hate Speech\", \"Free Speech\"]\n",
    "\n",
    "plt.pie(speech , labels = label, autopct= '%1.1f%%')\n",
    "plt.tight_layout()\n",
    "plt.show()"
   ]
  },
  {
   "cell_type": "markdown",
   "id": "2432d496",
   "metadata": {},
   "source": [
    "## Data Preprocessing"
   ]
  },
  {
   "cell_type": "markdown",
   "id": "9b7ad92b",
   "metadata": {},
   "source": [
    "In the data preprocessing text will be clean with the help of Regular Expression and then using preprocessing operations Tokenization, to convert sentence into token. After tokenization stop words will be removed and then apply stemming to reducing a word to its word stem."
   ]
  },
  {
   "cell_type": "markdown",
   "id": "fe90f7ee",
   "metadata": {},
   "source": [
    "### Text Cleaning"
   ]
  },
  {
   "cell_type": "markdown",
   "id": "903d066c",
   "metadata": {},
   "source": [
    "<b> 1. Lower case\n",
    "    \n",
    "<b> 2. Remove Punctuation\n",
    "    \n",
    "<b> 3. Remove Urls\n",
    "    \n",
    "<b> 4. Removing @tags\n",
    "    \n",
    "<b> 5. Remove Special Characters"
   ]
  },
  {
   "cell_type": "markdown",
   "id": "f39aba3d",
   "metadata": {},
   "source": [
    "### 1. Lower case"
   ]
  },
  {
   "cell_type": "code",
   "execution_count": 19,
   "id": "e62e724d",
   "metadata": {
    "ExecuteTime": {
     "end_time": "2022-11-24T21:31:14.755446Z",
     "start_time": "2022-11-24T21:31:14.707045Z"
    }
   },
   "outputs": [],
   "source": [
    "def lower_case(text):\n",
    "    return text.lower()\n",
    "\n",
    "df['tweet'] = df['tweet'].apply(lower_case)"
   ]
  },
  {
   "cell_type": "markdown",
   "id": "0c198cdb",
   "metadata": {},
   "source": [
    "### 2. Remove Punctuation"
   ]
  },
  {
   "cell_type": "code",
   "execution_count": 20,
   "id": "b6ab5180",
   "metadata": {
    "ExecuteTime": {
     "end_time": "2022-11-24T21:37:41.461008Z",
     "start_time": "2022-11-24T21:37:41.243389Z"
    }
   },
   "outputs": [],
   "source": [
    "def remove_punct(text):\n",
    "    return text.translate(str.maketrans('','',string.punctuation))\n",
    "\n",
    "df['tweet'] = df['tweet'].apply(remove_punct)"
   ]
  },
  {
   "cell_type": "markdown",
   "id": "b1136c22",
   "metadata": {},
   "source": [
    "### 3. Remove URL"
   ]
  },
  {
   "cell_type": "code",
   "execution_count": 24,
   "id": "9dc3a20a",
   "metadata": {
    "ExecuteTime": {
     "end_time": "2022-11-24T21:53:57.502031Z",
     "start_time": "2022-11-24T21:53:57.313537Z"
    }
   },
   "outputs": [],
   "source": [
    "def remove_url(text):\n",
    "    return re.sub(r'''(?i)\\b((?:https?://|www\\d{0,3}[.]|[a-z0-9.\\-]+[.][a-z]{2,4}/)(?:[^\\s()<>]+|\\(([^\\s()<>]+|(\\([^\\s()<>]+\\)))*\\))+(?:\\(([^\\s()<>]+|(\\([^\\s()<>]+\\)))*\\)|[^\\s`!()\\[\\]{};:'\".,<>?«»“”‘’]))''', \" \", text)\n",
    "\n",
    "df['tweet'] = df['tweet'].apply(remove_url)\n"
   ]
  },
  {
   "cell_type": "markdown",
   "id": "77d59c7d",
   "metadata": {},
   "source": [
    "### 4. Remove @tags"
   ]
  },
  {
   "cell_type": "code",
   "execution_count": 25,
   "id": "ee9f254b",
   "metadata": {
    "ExecuteTime": {
     "end_time": "2022-11-24T21:55:52.549257Z",
     "start_time": "2022-11-24T21:55:52.506438Z"
    }
   },
   "outputs": [],
   "source": [
    "def remove_tags(text):\n",
    "    return re.sub(r'(@[A-Za-z0-9]+)',\"\",text)\n",
    "\n",
    "df['tweet'] = df['tweet'].apply(remove_tags)"
   ]
  },
  {
   "cell_type": "markdown",
   "id": "607aaa4c",
   "metadata": {},
   "source": [
    "### 5. Remove Special Characters"
   ]
  },
  {
   "cell_type": "code",
   "execution_count": 27,
   "id": "d23f4167",
   "metadata": {
    "ExecuteTime": {
     "end_time": "2022-11-24T22:00:32.825137Z",
     "start_time": "2022-11-24T22:00:32.698438Z"
    }
   },
   "outputs": [],
   "source": [
    "def remove_special_char(text):\n",
    "    return \" \".join(e for e in text.split() if e.isalnum())\n",
    "\n",
    "df['tweet'] = df['tweet'].apply(remove_special_char)"
   ]
  },
  {
   "cell_type": "code",
   "execution_count": null,
   "id": "519e3c2b",
   "metadata": {},
   "outputs": [],
   "source": []
  }
 ],
 "metadata": {
  "kernelspec": {
   "display_name": "Python 3 (ipykernel)",
   "language": "python",
   "name": "python3"
  },
  "language_info": {
   "codemirror_mode": {
    "name": "ipython",
    "version": 3
   },
   "file_extension": ".py",
   "mimetype": "text/x-python",
   "name": "python",
   "nbconvert_exporter": "python",
   "pygments_lexer": "ipython3",
   "version": "3.9.7"
  },
  "varInspector": {
   "cols": {
    "lenName": 16,
    "lenType": 16,
    "lenVar": 40
   },
   "kernels_config": {
    "python": {
     "delete_cmd_postfix": "",
     "delete_cmd_prefix": "del ",
     "library": "var_list.py",
     "varRefreshCmd": "print(var_dic_list())"
    },
    "r": {
     "delete_cmd_postfix": ") ",
     "delete_cmd_prefix": "rm(",
     "library": "var_list.r",
     "varRefreshCmd": "cat(var_dic_list()) "
    }
   },
   "types_to_exclude": [
    "module",
    "function",
    "builtin_function_or_method",
    "instance",
    "_Feature"
   ],
   "window_display": false
  }
 },
 "nbformat": 4,
 "nbformat_minor": 5
}
